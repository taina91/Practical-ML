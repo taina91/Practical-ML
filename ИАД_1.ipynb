{
 "cells": [
  {
   "cell_type": "markdown",
   "metadata": {},
   "source": [
    "# Лабораторная работа № 1"
   ]
  },
  {
   "cell_type": "code",
   "execution_count": 64,
   "metadata": {},
   "outputs": [],
   "source": [
    "%matplotlib inline\n",
    "import numpy as np\n",
    "import pandas as pd\n",
    "import matplotlib.pyplot as plt\n",
    "import seaborn as sns"
   ]
  },
  {
   "cell_type": "markdown",
   "metadata": {},
   "source": [
    "## 1. Выбор и описание данных"
   ]
  },
  {
   "cell_type": "markdown",
   "metadata": {},
   "source": [
    "В ходе лабораторной работы анализируется датасет \"Predict students' dropout and academic success\". В наборе данных представлена информация о студентах на таких направлениях как агрономия, дизайн, образование, сестринское дело, журналистика, менеджмент, социальное обслуживание и технологии. Цель сбора данных – предсказать отсев студентов и их академическую успеваемость. "
   ]
  },
  {
   "cell_type": "markdown",
   "metadata": {},
   "source": [
    "Исследование с этими данными : http://www.worldcist.org/2021/\n",
    "(By Mónica V. Martins, Daniel Tolledo, Jorge Machado, Luís M. T. Baptista, and Valentim Realinho. 2021, Published in Trends and Applications in Information Systems and Technologies)"
   ]
  },
  {
   "cell_type": "code",
   "execution_count": 65,
   "metadata": {},
   "outputs": [
    {
     "data": {
      "text/html": [
       "<div>\n",
       "<style scoped>\n",
       "    .dataframe tbody tr th:only-of-type {\n",
       "        vertical-align: middle;\n",
       "    }\n",
       "\n",
       "    .dataframe tbody tr th {\n",
       "        vertical-align: top;\n",
       "    }\n",
       "\n",
       "    .dataframe thead th {\n",
       "        text-align: right;\n",
       "    }\n",
       "</style>\n",
       "<table border=\"1\" class=\"dataframe\">\n",
       "  <thead>\n",
       "    <tr style=\"text-align: right;\">\n",
       "      <th></th>\n",
       "      <th>Marital status</th>\n",
       "      <th>Application mode</th>\n",
       "      <th>Application order</th>\n",
       "      <th>Course</th>\n",
       "      <th>Daytime/evening attendance\\t</th>\n",
       "      <th>Previous qualification</th>\n",
       "      <th>Previous qualification (grade)</th>\n",
       "      <th>Nacionality</th>\n",
       "      <th>Mother's qualification</th>\n",
       "      <th>Father's qualification</th>\n",
       "      <th>...</th>\n",
       "      <th>Curricular units 2nd sem (credited)</th>\n",
       "      <th>Curricular units 2nd sem (enrolled)</th>\n",
       "      <th>Curricular units 2nd sem (evaluations)</th>\n",
       "      <th>Curricular units 2nd sem (approved)</th>\n",
       "      <th>Curricular units 2nd sem (grade)</th>\n",
       "      <th>Curricular units 2nd sem (without evaluations)</th>\n",
       "      <th>Unemployment rate</th>\n",
       "      <th>Inflation rate</th>\n",
       "      <th>GDP</th>\n",
       "      <th>Target</th>\n",
       "    </tr>\n",
       "  </thead>\n",
       "  <tbody>\n",
       "    <tr>\n",
       "      <th>0</th>\n",
       "      <td>1</td>\n",
       "      <td>17</td>\n",
       "      <td>5</td>\n",
       "      <td>171</td>\n",
       "      <td>1</td>\n",
       "      <td>1</td>\n",
       "      <td>122.0</td>\n",
       "      <td>1</td>\n",
       "      <td>19</td>\n",
       "      <td>12</td>\n",
       "      <td>...</td>\n",
       "      <td>0</td>\n",
       "      <td>0</td>\n",
       "      <td>0</td>\n",
       "      <td>0</td>\n",
       "      <td>0.000000</td>\n",
       "      <td>0</td>\n",
       "      <td>10.8</td>\n",
       "      <td>1.4</td>\n",
       "      <td>1.74</td>\n",
       "      <td>Dropout</td>\n",
       "    </tr>\n",
       "    <tr>\n",
       "      <th>1</th>\n",
       "      <td>1</td>\n",
       "      <td>15</td>\n",
       "      <td>1</td>\n",
       "      <td>9254</td>\n",
       "      <td>1</td>\n",
       "      <td>1</td>\n",
       "      <td>160.0</td>\n",
       "      <td>1</td>\n",
       "      <td>1</td>\n",
       "      <td>3</td>\n",
       "      <td>...</td>\n",
       "      <td>0</td>\n",
       "      <td>6</td>\n",
       "      <td>6</td>\n",
       "      <td>6</td>\n",
       "      <td>13.666667</td>\n",
       "      <td>0</td>\n",
       "      <td>13.9</td>\n",
       "      <td>-0.3</td>\n",
       "      <td>0.79</td>\n",
       "      <td>Graduate</td>\n",
       "    </tr>\n",
       "    <tr>\n",
       "      <th>2</th>\n",
       "      <td>1</td>\n",
       "      <td>1</td>\n",
       "      <td>5</td>\n",
       "      <td>9070</td>\n",
       "      <td>1</td>\n",
       "      <td>1</td>\n",
       "      <td>122.0</td>\n",
       "      <td>1</td>\n",
       "      <td>37</td>\n",
       "      <td>37</td>\n",
       "      <td>...</td>\n",
       "      <td>0</td>\n",
       "      <td>6</td>\n",
       "      <td>0</td>\n",
       "      <td>0</td>\n",
       "      <td>0.000000</td>\n",
       "      <td>0</td>\n",
       "      <td>10.8</td>\n",
       "      <td>1.4</td>\n",
       "      <td>1.74</td>\n",
       "      <td>Dropout</td>\n",
       "    </tr>\n",
       "    <tr>\n",
       "      <th>3</th>\n",
       "      <td>1</td>\n",
       "      <td>17</td>\n",
       "      <td>2</td>\n",
       "      <td>9773</td>\n",
       "      <td>1</td>\n",
       "      <td>1</td>\n",
       "      <td>122.0</td>\n",
       "      <td>1</td>\n",
       "      <td>38</td>\n",
       "      <td>37</td>\n",
       "      <td>...</td>\n",
       "      <td>0</td>\n",
       "      <td>6</td>\n",
       "      <td>10</td>\n",
       "      <td>5</td>\n",
       "      <td>12.400000</td>\n",
       "      <td>0</td>\n",
       "      <td>9.4</td>\n",
       "      <td>-0.8</td>\n",
       "      <td>-3.12</td>\n",
       "      <td>Graduate</td>\n",
       "    </tr>\n",
       "    <tr>\n",
       "      <th>4</th>\n",
       "      <td>2</td>\n",
       "      <td>39</td>\n",
       "      <td>1</td>\n",
       "      <td>8014</td>\n",
       "      <td>0</td>\n",
       "      <td>1</td>\n",
       "      <td>100.0</td>\n",
       "      <td>1</td>\n",
       "      <td>37</td>\n",
       "      <td>38</td>\n",
       "      <td>...</td>\n",
       "      <td>0</td>\n",
       "      <td>6</td>\n",
       "      <td>6</td>\n",
       "      <td>6</td>\n",
       "      <td>13.000000</td>\n",
       "      <td>0</td>\n",
       "      <td>13.9</td>\n",
       "      <td>-0.3</td>\n",
       "      <td>0.79</td>\n",
       "      <td>Graduate</td>\n",
       "    </tr>\n",
       "  </tbody>\n",
       "</table>\n",
       "<p>5 rows × 37 columns</p>\n",
       "</div>"
      ],
      "text/plain": [
       "   Marital status  Application mode  Application order  Course  \\\n",
       "0               1                17                  5     171   \n",
       "1               1                15                  1    9254   \n",
       "2               1                 1                  5    9070   \n",
       "3               1                17                  2    9773   \n",
       "4               2                39                  1    8014   \n",
       "\n",
       "   Daytime/evening attendance\\t  Previous qualification  \\\n",
       "0                             1                       1   \n",
       "1                             1                       1   \n",
       "2                             1                       1   \n",
       "3                             1                       1   \n",
       "4                             0                       1   \n",
       "\n",
       "   Previous qualification (grade)  Nacionality  Mother's qualification  \\\n",
       "0                           122.0            1                      19   \n",
       "1                           160.0            1                       1   \n",
       "2                           122.0            1                      37   \n",
       "3                           122.0            1                      38   \n",
       "4                           100.0            1                      37   \n",
       "\n",
       "   Father's qualification  ...  Curricular units 2nd sem (credited)  \\\n",
       "0                      12  ...                                    0   \n",
       "1                       3  ...                                    0   \n",
       "2                      37  ...                                    0   \n",
       "3                      37  ...                                    0   \n",
       "4                      38  ...                                    0   \n",
       "\n",
       "   Curricular units 2nd sem (enrolled)  \\\n",
       "0                                    0   \n",
       "1                                    6   \n",
       "2                                    6   \n",
       "3                                    6   \n",
       "4                                    6   \n",
       "\n",
       "   Curricular units 2nd sem (evaluations)  \\\n",
       "0                                       0   \n",
       "1                                       6   \n",
       "2                                       0   \n",
       "3                                      10   \n",
       "4                                       6   \n",
       "\n",
       "   Curricular units 2nd sem (approved)  Curricular units 2nd sem (grade)  \\\n",
       "0                                    0                          0.000000   \n",
       "1                                    6                         13.666667   \n",
       "2                                    0                          0.000000   \n",
       "3                                    5                         12.400000   \n",
       "4                                    6                         13.000000   \n",
       "\n",
       "   Curricular units 2nd sem (without evaluations)  Unemployment rate  \\\n",
       "0                                               0               10.8   \n",
       "1                                               0               13.9   \n",
       "2                                               0               10.8   \n",
       "3                                               0                9.4   \n",
       "4                                               0               13.9   \n",
       "\n",
       "   Inflation rate   GDP    Target  \n",
       "0             1.4  1.74   Dropout  \n",
       "1            -0.3  0.79  Graduate  \n",
       "2             1.4  1.74   Dropout  \n",
       "3            -0.8 -3.12  Graduate  \n",
       "4            -0.3  0.79  Graduate  \n",
       "\n",
       "[5 rows x 37 columns]"
      ]
     },
     "execution_count": 65,
     "metadata": {},
     "output_type": "execute_result"
    }
   ],
   "source": [
    "bank = pd.read_csv(\"data.csv\",sep=';')\n",
    "# bank = pd.DataFrame(t)\n",
    "bank.head()"
   ]
  },
  {
   "cell_type": "code",
   "execution_count": 66,
   "metadata": {},
   "outputs": [],
   "source": [
    "#так как все данные представлены числами, переведем столбцы с качественными показателями в тип данных объект \n",
    "bank[\"Marital status\"] = bank[\"Marital status\"].astype(object)\n",
    "bank[\"Application mode\"] = bank[\"Application mode\"].astype(object)\n",
    "# bank[\"Application order\"] = bank[\"Application order\"].astype(object)\n",
    "bank[\"Course\"] = bank[\"Course\"].astype(object)\n",
    "bank[\"Daytime/evening attendance\\t\"] = bank[\"Daytime/evening attendance\\t\"].astype(object)\n",
    "bank[\"Previous qualification\"] = bank[\"Previous qualification\"].astype(object)\n",
    "bank[\"Nacionality\"] = bank[\"Nacionality\"].astype(object)\n",
    "bank[\"Mother's qualification\"] = bank[\"Mother's qualification\"].astype(object)\n",
    "bank[\"Father's qualification\"] = bank[\"Father's qualification\"].astype(object)\n",
    "bank[\"Mother's occupation\"] = bank[\"Mother's occupation\"].astype(object)\n",
    "bank[\"Father's occupation\"] = bank[\"Father's occupation\"].astype(object)\n",
    "bank[\"Displaced\"] = bank[\"Displaced\"].astype(object)\n",
    "bank[\"Educational special needs\"] = bank[\"Educational special needs\"].astype(object)\n",
    "bank[\"Debtor\"] = bank[\"Debtor\"].astype(object)\n",
    "bank[\"Tuition fees up to date\"] = bank[\"Tuition fees up to date\"].astype(object)\n",
    "bank[\"Gender\"] = bank[\"Gender\"].astype(object)\n",
    "bank[\"Scholarship holder\"] = bank[\"Scholarship holder\"].astype(object)\n",
    "bank[\"International\"] = bank[\"International\"].astype(object)\n",
    "bank[\"Target\"] = bank[\"Target\"].astype(object)"
   ]
  },
  {
   "cell_type": "markdown",
   "metadata": {},
   "source": [
    "Датасет содержит информацию о 4424 студентах. Последние атрибут - выходной, отвечает на вопрос \"отчислится ли студент?\""
   ]
  },
  {
   "cell_type": "markdown",
   "metadata": {},
   "source": [
    "## 2. Описание показателей."
   ]
  },
  {
   "cell_type": "code",
   "execution_count": 67,
   "metadata": {},
   "outputs": [],
   "source": [
    "#Функция для описания количественных показателей\n",
    "def Inputs_info(data):\n",
    "    print(\"Информация об\", data.name)\n",
    "    print (\"{:<9} {:<9} {:<11} {:<17}\".format('min','max','median','mean'))\n",
    "    print (\"{:<9} {:<9} {:<11} {:<17}\".format(data.min(), data.max(), data.median(), data.mean()))"
   ]
  },
  {
   "cell_type": "markdown",
   "metadata": {},
   "source": [
    "### 1) Marital status - материальный статус студента (порядковая шкала)"
   ]
  },
  {
   "cell_type": "code",
   "execution_count": 68,
   "metadata": {},
   "outputs": [
    {
     "data": {
      "text/plain": [
       "1    3919\n",
       "2     379\n",
       "4      91\n",
       "5      25\n",
       "6       6\n",
       "3       4\n",
       "Name: Marital status, dtype: int64"
      ]
     },
     "execution_count": 68,
     "metadata": {},
     "output_type": "execute_result"
    }
   ],
   "source": [
    "bank['Marital status'].value_counts()"
   ]
  },
  {
   "cell_type": "markdown",
   "metadata": {},
   "source": [
    "### 2) Application mode - причина поступления (номинальная шкала)"
   ]
  },
  {
   "cell_type": "code",
   "execution_count": 69,
   "metadata": {},
   "outputs": [
    {
     "data": {
      "text/plain": [
       "1     1708\n",
       "17     872\n",
       "39     785\n",
       "43     312\n",
       "44     213\n",
       "7      139\n",
       "18     124\n",
       "42      77\n",
       "51      59\n",
       "16      38\n",
       "53      35\n",
       "15      30\n",
       "5       16\n",
       "10      10\n",
       "2        3\n",
       "57       1\n",
       "26       1\n",
       "27       1\n",
       "Name: Application mode, dtype: int64"
      ]
     },
     "execution_count": 69,
     "metadata": {},
     "output_type": "execute_result"
    }
   ],
   "source": [
    "bank['Application mode'].value_counts()"
   ]
  },
  {
   "cell_type": "markdown",
   "metadata": {},
   "source": [
    "### 3) Application order - приоритет выбора (порядковая шкала)"
   ]
  },
  {
   "cell_type": "code",
   "execution_count": 70,
   "metadata": {},
   "outputs": [
    {
     "data": {
      "text/plain": [
       "1    3026\n",
       "2     547\n",
       "3     309\n",
       "4     249\n",
       "5     154\n",
       "6     137\n",
       "9       1\n",
       "0       1\n",
       "Name: Application order, dtype: int64"
      ]
     },
     "execution_count": 70,
     "metadata": {},
     "output_type": "execute_result"
    }
   ],
   "source": [
    "bank['Application order'].value_counts()"
   ]
  },
  {
   "cell_type": "markdown",
   "metadata": {},
   "source": [
    "### 4) Course - номер специальности (номинальная шкала)"
   ]
  },
  {
   "cell_type": "code",
   "execution_count": 71,
   "metadata": {},
   "outputs": [
    {
     "data": {
      "text/plain": [
       "9500    766\n",
       "9147    380\n",
       "9238    355\n",
       "9085    337\n",
       "9773    331\n",
       "9670    268\n",
       "9991    268\n",
       "9254    252\n",
       "9070    226\n",
       "171     215\n",
       "8014    215\n",
       "9003    210\n",
       "9853    192\n",
       "9119    170\n",
       "9130    141\n",
       "9556     86\n",
       "33       12\n",
       "Name: Course, dtype: int64"
      ]
     },
     "execution_count": 71,
     "metadata": {},
     "output_type": "execute_result"
    }
   ],
   "source": [
    "bank['Course'].value_counts()"
   ]
  },
  {
   "cell_type": "markdown",
   "metadata": {},
   "source": [
    "### 5) Daytime/evening attendance\t - время обучения днем/вечером (номинальная шкала)"
   ]
  },
  {
   "cell_type": "code",
   "execution_count": 72,
   "metadata": {},
   "outputs": [
    {
     "data": {
      "text/plain": [
       "1    3941\n",
       "0     483\n",
       "Name: Daytime/evening attendance\\t, dtype: int64"
      ]
     },
     "execution_count": 72,
     "metadata": {},
     "output_type": "execute_result"
    }
   ],
   "source": [
    "bank[\"Daytime/evening attendance\\t\"].value_counts()"
   ]
  },
  {
   "cell_type": "markdown",
   "metadata": {},
   "source": [
    "### 6) Previous qualification - предыдущее образование (порядковая шкала)"
   ]
  },
  {
   "cell_type": "code",
   "execution_count": 73,
   "metadata": {},
   "outputs": [
    {
     "data": {
      "text/plain": [
       "1     3717\n",
       "39     219\n",
       "19     162\n",
       "3      126\n",
       "12      45\n",
       "40      40\n",
       "42      36\n",
       "2       23\n",
       "6       16\n",
       "9       11\n",
       "4        8\n",
       "38       7\n",
       "43       6\n",
       "10       4\n",
       "15       2\n",
       "5        1\n",
       "14       1\n",
       "Name: Previous qualification, dtype: int64"
      ]
     },
     "execution_count": 73,
     "metadata": {},
     "output_type": "execute_result"
    }
   ],
   "source": [
    "bank['Previous qualification'].value_counts()"
   ]
  },
  {
   "cell_type": "markdown",
   "metadata": {},
   "source": [
    "### 7) Previous qualification (grade) - уровень предыдущего образования (интервальная шкала)"
   ]
  },
  {
   "cell_type": "code",
   "execution_count": 74,
   "metadata": {},
   "outputs": [
    {
     "name": "stdout",
     "output_type": "stream",
     "text": [
      "Информация об Previous qualification (grade)\n",
      "min       max       median      mean             \n",
      "95.0      190.0     133.1       132.6133137432188\n"
     ]
    }
   ],
   "source": [
    "Inputs_info(bank['Previous qualification (grade)'])"
   ]
  },
  {
   "cell_type": "markdown",
   "metadata": {},
   "source": [
    "### 8) Nacionality - национальность (номинальная шкала)"
   ]
  },
  {
   "cell_type": "code",
   "execution_count": 75,
   "metadata": {},
   "outputs": [
    {
     "data": {
      "text/plain": [
       "1      4314\n",
       "41       38\n",
       "26       14\n",
       "22       13\n",
       "6        13\n",
       "24        5\n",
       "100       3\n",
       "11        3\n",
       "103       3\n",
       "21        2\n",
       "101       2\n",
       "62        2\n",
       "25        2\n",
       "2         2\n",
       "105       2\n",
       "32        1\n",
       "13        1\n",
       "109       1\n",
       "108       1\n",
       "14        1\n",
       "17        1\n",
       "Name: Nacionality, dtype: int64"
      ]
     },
     "execution_count": 75,
     "metadata": {},
     "output_type": "execute_result"
    }
   ],
   "source": [
    "bank['Nacionality'].value_counts()"
   ]
  },
  {
   "cell_type": "markdown",
   "metadata": {},
   "source": [
    "### 9) Mother's qualification - образование матери (порядковая шкала)"
   ]
  },
  {
   "cell_type": "code",
   "execution_count": 76,
   "metadata": {},
   "outputs": [
    {
     "data": {
      "text/plain": [
       "1     1069\n",
       "37    1009\n",
       "19     953\n",
       "38     562\n",
       "3      438\n",
       "34     130\n",
       "2       83\n",
       "4       49\n",
       "12      42\n",
       "5       21\n",
       "40       9\n",
       "9        8\n",
       "39       8\n",
       "41       6\n",
       "6        4\n",
       "42       4\n",
       "43       4\n",
       "29       3\n",
       "10       3\n",
       "11       3\n",
       "36       3\n",
       "35       3\n",
       "30       3\n",
       "14       2\n",
       "18       1\n",
       "22       1\n",
       "27       1\n",
       "26       1\n",
       "44       1\n",
       "Name: Mother's qualification, dtype: int64"
      ]
     },
     "execution_count": 76,
     "metadata": {},
     "output_type": "execute_result"
    }
   ],
   "source": [
    "bank[\"Mother's qualification\"].value_counts()"
   ]
  },
  {
   "cell_type": "markdown",
   "metadata": {},
   "source": [
    "### 10) Father's qualification - образование отца (порядковая шкала)"
   ]
  },
  {
   "cell_type": "code",
   "execution_count": 77,
   "metadata": {},
   "outputs": [
    {
     "data": {
      "text/plain": [
       "37    1209\n",
       "19     968\n",
       "1      904\n",
       "38     702\n",
       "3      282\n",
       "34     112\n",
       "2       68\n",
       "4       39\n",
       "12      38\n",
       "39      20\n",
       "5       18\n",
       "11      10\n",
       "36       8\n",
       "9        5\n",
       "40       5\n",
       "22       4\n",
       "30       4\n",
       "14       4\n",
       "29       3\n",
       "35       2\n",
       "41       2\n",
       "43       2\n",
       "10       2\n",
       "6        2\n",
       "26       2\n",
       "25       1\n",
       "27       1\n",
       "33       1\n",
       "44       1\n",
       "20       1\n",
       "42       1\n",
       "18       1\n",
       "13       1\n",
       "31       1\n",
       "Name: Father's qualification, dtype: int64"
      ]
     },
     "execution_count": 77,
     "metadata": {},
     "output_type": "execute_result"
    }
   ],
   "source": [
    "bank[\"Father's qualification\"].value_counts()"
   ]
  },
  {
   "cell_type": "markdown",
   "metadata": {},
   "source": [
    "### 11) Mother's occupation - занятость матери (номинальная шкала)"
   ]
  },
  {
   "cell_type": "code",
   "execution_count": 78,
   "metadata": {},
   "outputs": [
    {
     "data": {
      "text/plain": [
       "9      1577\n",
       "4       817\n",
       "5       530\n",
       "3       351\n",
       "2       318\n",
       "7       272\n",
       "0       144\n",
       "1       102\n",
       "6        91\n",
       "90       70\n",
       "8        36\n",
       "191      26\n",
       "99       17\n",
       "194      11\n",
       "141       8\n",
       "123       7\n",
       "144       6\n",
       "175       5\n",
       "192       5\n",
       "193       4\n",
       "134       4\n",
       "10        4\n",
       "143       3\n",
       "151       3\n",
       "132       3\n",
       "152       2\n",
       "122       2\n",
       "153       2\n",
       "173       1\n",
       "125       1\n",
       "131       1\n",
       "171       1\n",
       "Name: Mother's occupation, dtype: int64"
      ]
     },
     "execution_count": 78,
     "metadata": {},
     "output_type": "execute_result"
    }
   ],
   "source": [
    "bank[\"Mother's occupation\"].value_counts()"
   ]
  },
  {
   "cell_type": "markdown",
   "metadata": {},
   "source": [
    "### 12) Father's occupation - занятость отца (номинальная шкала)"
   ]
  },
  {
   "cell_type": "code",
   "execution_count": 79,
   "metadata": {},
   "outputs": [
    {
     "data": {
      "text/plain": [
       "9      1010\n",
       "7       666\n",
       "5       516\n",
       "4       386\n",
       "3       384\n",
       "8       318\n",
       "10      266\n",
       "6       242\n",
       "2       197\n",
       "1       134\n",
       "0       128\n",
       "90       65\n",
       "99       19\n",
       "193      15\n",
       "144       8\n",
       "171       8\n",
       "192       6\n",
       "163       5\n",
       "103       4\n",
       "175       4\n",
       "135       3\n",
       "183       3\n",
       "152       3\n",
       "123       3\n",
       "181       3\n",
       "194       2\n",
       "182       2\n",
       "112       2\n",
       "151       2\n",
       "172       2\n",
       "122       2\n",
       "102       2\n",
       "153       1\n",
       "101       1\n",
       "114       1\n",
       "174       1\n",
       "141       1\n",
       "132       1\n",
       "134       1\n",
       "143       1\n",
       "131       1\n",
       "161       1\n",
       "195       1\n",
       "121       1\n",
       "124       1\n",
       "154       1\n",
       "Name: Father's occupation, dtype: int64"
      ]
     },
     "execution_count": 79,
     "metadata": {},
     "output_type": "execute_result"
    }
   ],
   "source": [
    "bank[\"Father's occupation\"].value_counts()"
   ]
  },
  {
   "cell_type": "markdown",
   "metadata": {},
   "source": [
    "### 13) Admission grade - вступительный балл (интервальная шкала)"
   ]
  },
  {
   "cell_type": "code",
   "execution_count": 80,
   "metadata": {},
   "outputs": [
    {
     "name": "stdout",
     "output_type": "stream",
     "text": [
      "Информация об Admission grade\n",
      "min       max       median      mean             \n",
      "95.0      190.0     126.1       126.97811934900544\n"
     ]
    }
   ],
   "source": [
    "Inputs_info(bank['Admission grade'])"
   ]
  },
  {
   "cell_type": "markdown",
   "metadata": {},
   "source": [
    "### 14) Displaced - переезд (номинальная шкала)"
   ]
  },
  {
   "cell_type": "code",
   "execution_count": 81,
   "metadata": {},
   "outputs": [
    {
     "data": {
      "text/plain": [
       "1    2426\n",
       "0    1998\n",
       "Name: Displaced, dtype: int64"
      ]
     },
     "execution_count": 81,
     "metadata": {},
     "output_type": "execute_result"
    }
   ],
   "source": [
    "bank[\"Displaced\"].value_counts()"
   ]
  },
  {
   "cell_type": "markdown",
   "metadata": {},
   "source": [
    "### 15) Educational special needs - особые потребности (номинальная шкала)"
   ]
  },
  {
   "cell_type": "code",
   "execution_count": 82,
   "metadata": {},
   "outputs": [
    {
     "data": {
      "text/plain": [
       "0    4373\n",
       "1      51\n",
       "Name: Educational special needs, dtype: int64"
      ]
     },
     "execution_count": 82,
     "metadata": {},
     "output_type": "execute_result"
    }
   ],
   "source": [
    "bank[\"Educational special needs\"].value_counts()"
   ]
  },
  {
   "cell_type": "markdown",
   "metadata": {},
   "source": [
    "### 16) Debtor - должник (номинальная шкала)"
   ]
  },
  {
   "cell_type": "code",
   "execution_count": 83,
   "metadata": {},
   "outputs": [
    {
     "data": {
      "text/plain": [
       "0    3921\n",
       "1     503\n",
       "Name: Debtor, dtype: int64"
      ]
     },
     "execution_count": 83,
     "metadata": {},
     "output_type": "execute_result"
    }
   ],
   "source": [
    "bank[\"Debtor\"].value_counts()"
   ]
  },
  {
   "cell_type": "markdown",
   "metadata": {},
   "source": [
    "### 17) Tuition fees up to date - плата за обучение (номинальная шкала)"
   ]
  },
  {
   "cell_type": "code",
   "execution_count": 84,
   "metadata": {},
   "outputs": [
    {
     "data": {
      "text/plain": [
       "1    3896\n",
       "0     528\n",
       "Name: Tuition fees up to date, dtype: int64"
      ]
     },
     "execution_count": 84,
     "metadata": {},
     "output_type": "execute_result"
    }
   ],
   "source": [
    "bank[\"Tuition fees up to date\"].value_counts()"
   ]
  },
  {
   "cell_type": "markdown",
   "metadata": {},
   "source": [
    "### 18) Gender - пол (номинальная шкала)"
   ]
  },
  {
   "cell_type": "code",
   "execution_count": 85,
   "metadata": {},
   "outputs": [
    {
     "data": {
      "text/plain": [
       "0    2868\n",
       "1    1556\n",
       "Name: Gender, dtype: int64"
      ]
     },
     "execution_count": 85,
     "metadata": {},
     "output_type": "execute_result"
    }
   ],
   "source": [
    "bank[\"Gender\"].value_counts()"
   ]
  },
  {
   "cell_type": "markdown",
   "metadata": {},
   "source": [
    "### 19) Scholarship holder - получает стипендию (номинальная шкала)"
   ]
  },
  {
   "cell_type": "code",
   "execution_count": 86,
   "metadata": {},
   "outputs": [
    {
     "data": {
      "text/plain": [
       "0    3325\n",
       "1    1099\n",
       "Name: Scholarship holder, dtype: int64"
      ]
     },
     "execution_count": 86,
     "metadata": {},
     "output_type": "execute_result"
    }
   ],
   "source": [
    "bank[\"Scholarship holder\"].value_counts()"
   ]
  },
  {
   "cell_type": "markdown",
   "metadata": {},
   "source": [
    "### 20) Age at enrollment - возраст при зачислении (абсолютная шкала)"
   ]
  },
  {
   "cell_type": "code",
   "execution_count": 87,
   "metadata": {},
   "outputs": [
    {
     "name": "stdout",
     "output_type": "stream",
     "text": [
      "Информация об Age at enrollment\n",
      "min       max       median      mean             \n",
      "17        70        20.0        23.265144665461122\n"
     ]
    }
   ],
   "source": [
    "Inputs_info(bank['Age at enrollment'])"
   ]
  },
  {
   "cell_type": "markdown",
   "metadata": {},
   "source": [
    "### 21) International - иностранец (номинальная шкала)"
   ]
  },
  {
   "cell_type": "code",
   "execution_count": 88,
   "metadata": {},
   "outputs": [
    {
     "data": {
      "text/plain": [
       "0    4314\n",
       "1     110\n",
       "Name: International, dtype: int64"
      ]
     },
     "execution_count": 88,
     "metadata": {},
     "output_type": "execute_result"
    }
   ],
   "source": [
    "bank[\"International\"].value_counts()"
   ]
  },
  {
   "cell_type": "markdown",
   "metadata": {},
   "source": [
    "### 22) Curricular units 1st sem (credited) - количество зачетных единиц в 1 семестре (интервальная шкала)"
   ]
  },
  {
   "cell_type": "code",
   "execution_count": 89,
   "metadata": {},
   "outputs": [
    {
     "name": "stdout",
     "output_type": "stream",
     "text": [
      "Информация об Curricular units 1st sem (credited)\n",
      "min       max       median      mean             \n",
      "0         20        0.0         0.7099909584086799\n"
     ]
    }
   ],
   "source": [
    "Inputs_info(bank['Curricular units 1st sem (credited)'])"
   ]
  },
  {
   "cell_type": "markdown",
   "metadata": {},
   "source": [
    "### 23) Curricular units 1st sem (enrolled) - количество учебных занятий, на которые студент был записан (интервальная шкала)"
   ]
  },
  {
   "cell_type": "code",
   "execution_count": 90,
   "metadata": {},
   "outputs": [
    {
     "name": "stdout",
     "output_type": "stream",
     "text": [
      "Информация об Curricular units 1st sem (enrolled)\n",
      "min       max       median      mean             \n",
      "0         26        6.0         6.2705696202531644\n"
     ]
    }
   ],
   "source": [
    "Inputs_info(bank['Curricular units 1st sem (enrolled)'])"
   ]
  },
  {
   "cell_type": "markdown",
   "metadata": {},
   "source": [
    "### 24) Curricular units 1st sem (evaluations) - количество учебных занятий с оценкой (интервальная шкала)"
   ]
  },
  {
   "cell_type": "code",
   "execution_count": 91,
   "metadata": {},
   "outputs": [
    {
     "name": "stdout",
     "output_type": "stream",
     "text": [
      "Информация об Curricular units 1st sem (evaluations)\n",
      "min       max       median      mean             \n",
      "0         45        8.0         8.299050632911392\n"
     ]
    }
   ],
   "source": [
    "Inputs_info(bank['Curricular units 1st sem (evaluations)'])"
   ]
  },
  {
   "cell_type": "markdown",
   "metadata": {},
   "source": [
    "### 25) Curricular units 1st sem (approved) - количество утвержденных предметов (интервальная шкала)"
   ]
  },
  {
   "cell_type": "code",
   "execution_count": 92,
   "metadata": {},
   "outputs": [
    {
     "name": "stdout",
     "output_type": "stream",
     "text": [
      "Информация об Curricular units 1st sem (approved)\n",
      "min       max       median      mean             \n",
      "0         26        5.0         4.706600361663653\n"
     ]
    }
   ],
   "source": [
    "Inputs_info(bank['Curricular units 1st sem (approved)'])"
   ]
  },
  {
   "cell_type": "markdown",
   "metadata": {},
   "source": [
    "### 26) Curricular units 1st sem (grade) - средний балл за первый семестр (интервальная шкала)"
   ]
  },
  {
   "cell_type": "code",
   "execution_count": 93,
   "metadata": {},
   "outputs": [
    {
     "name": "stdout",
     "output_type": "stream",
     "text": [
      "Информация об Curricular units 1st sem (grade)\n",
      "min       max       median      mean             \n",
      "0.0       18.875    12.285714285714286 10.640821575154185\n"
     ]
    }
   ],
   "source": [
    "Inputs_info(bank['Curricular units 1st sem (grade)'])"
   ]
  },
  {
   "cell_type": "markdown",
   "metadata": {},
   "source": [
    "### 27) Curricular units 1st sem (without evaluations) - количество учебных занятий без оценки (интервальная шкала)"
   ]
  },
  {
   "cell_type": "code",
   "execution_count": 94,
   "metadata": {},
   "outputs": [
    {
     "name": "stdout",
     "output_type": "stream",
     "text": [
      "Информация об Curricular units 1st sem (without evaluations)\n",
      "min       max       median      mean             \n",
      "0         12        0.0         0.13765822784810128\n"
     ]
    }
   ],
   "source": [
    "Inputs_info(bank['Curricular units 1st sem (without evaluations)'])"
   ]
  },
  {
   "cell_type": "markdown",
   "metadata": {},
   "source": [
    "### 28) Curricular units 2nd sem (credited) - количество зачетных единиц в 2 семестре (интервальная шкала)"
   ]
  },
  {
   "cell_type": "code",
   "execution_count": 95,
   "metadata": {},
   "outputs": [
    {
     "name": "stdout",
     "output_type": "stream",
     "text": [
      "Информация об Curricular units 2nd sem (credited)\n",
      "min       max       median      mean             \n",
      "0         19        0.0         0.5418173598553345\n"
     ]
    }
   ],
   "source": [
    "Inputs_info(bank['Curricular units 2nd sem (credited)'])"
   ]
  },
  {
   "cell_type": "markdown",
   "metadata": {},
   "source": [
    "### 29) Curricular units 2nd sem (enrolled) - количество учебных занятий, на которые студент был записан (интервальная шкала)"
   ]
  },
  {
   "cell_type": "code",
   "execution_count": 96,
   "metadata": {},
   "outputs": [
    {
     "name": "stdout",
     "output_type": "stream",
     "text": [
      "Информация об Curricular units 2nd sem (enrolled)\n",
      "min       max       median      mean             \n",
      "0         23        6.0         6.232142857142857\n"
     ]
    }
   ],
   "source": [
    "Inputs_info(bank['Curricular units 2nd sem (enrolled)'])"
   ]
  },
  {
   "cell_type": "markdown",
   "metadata": {},
   "source": [
    "### 30) Curricular units 2nd sem (evaluations) - количество учебных занятий с оценкой (интервальная шкала)"
   ]
  },
  {
   "cell_type": "code",
   "execution_count": 97,
   "metadata": {},
   "outputs": [
    {
     "name": "stdout",
     "output_type": "stream",
     "text": [
      "Информация об Curricular units 2nd sem (evaluations)\n",
      "min       max       median      mean             \n",
      "0         33        8.0         8.063291139240507\n"
     ]
    }
   ],
   "source": [
    "Inputs_info(bank['Curricular units 2nd sem (evaluations)'])"
   ]
  },
  {
   "cell_type": "markdown",
   "metadata": {},
   "source": [
    "### 31) Curricular units 2nd sem (approved) - количество утвержденных предметов (интервальная шкала)"
   ]
  },
  {
   "cell_type": "code",
   "execution_count": 98,
   "metadata": {},
   "outputs": [
    {
     "name": "stdout",
     "output_type": "stream",
     "text": [
      "Информация об Curricular units 2nd sem (approved)\n",
      "min       max       median      mean             \n",
      "0         20        5.0         4.435804701627487\n"
     ]
    }
   ],
   "source": [
    "Inputs_info(bank['Curricular units 2nd sem (approved)'])"
   ]
  },
  {
   "cell_type": "markdown",
   "metadata": {},
   "source": [
    "### 32) Curricular units 2nd sem (grade) - средний балл за первый семестр (интервальная шкала)"
   ]
  },
  {
   "cell_type": "code",
   "execution_count": 99,
   "metadata": {},
   "outputs": [
    {
     "name": "stdout",
     "output_type": "stream",
     "text": [
      "Информация об Curricular units 2nd sem (grade)\n",
      "min       max       median      mean             \n",
      "0.0       18.571428571428573 12.2        10.230205722716985\n"
     ]
    }
   ],
   "source": [
    "Inputs_info(bank['Curricular units 2nd sem (grade)'])"
   ]
  },
  {
   "cell_type": "markdown",
   "metadata": {},
   "source": [
    "### 33) Curricular units 2nd sem (without evaluations) - количество учебных занятий без оценки (интервальная шкала)"
   ]
  },
  {
   "cell_type": "code",
   "execution_count": 100,
   "metadata": {},
   "outputs": [
    {
     "name": "stdout",
     "output_type": "stream",
     "text": [
      "Информация об Curricular units 2nd sem (without evaluations)\n",
      "min       max       median      mean             \n",
      "0         12        0.0         0.15031645569620253\n"
     ]
    }
   ],
   "source": [
    "Inputs_info(bank['Curricular units 2nd sem (without evaluations)'])"
   ]
  },
  {
   "cell_type": "markdown",
   "metadata": {},
   "source": [
    "### 34) Unemployment rate - уровень безработицы (абсолютная шкала)"
   ]
  },
  {
   "cell_type": "code",
   "execution_count": 101,
   "metadata": {},
   "outputs": [
    {
     "name": "stdout",
     "output_type": "stream",
     "text": [
      "Информация об Unemployment rate\n",
      "min       max       median      mean             \n",
      "7.6       16.2      11.1        11.56613924050633\n"
     ]
    }
   ],
   "source": [
    "Inputs_info(bank['Unemployment rate'])"
   ]
  },
  {
   "cell_type": "markdown",
   "metadata": {},
   "source": [
    "### 35) Inflation rate - уровень инфляции (интервальная шкала)"
   ]
  },
  {
   "cell_type": "code",
   "execution_count": 102,
   "metadata": {},
   "outputs": [
    {
     "name": "stdout",
     "output_type": "stream",
     "text": [
      "Информация об Inflation rate\n",
      "min       max       median      mean             \n",
      "-0.8      3.7       1.4         1.228028933092224\n"
     ]
    }
   ],
   "source": [
    "Inputs_info(bank['Inflation rate'])"
   ]
  },
  {
   "cell_type": "markdown",
   "metadata": {},
   "source": [
    "### 36) GDP - ВВП (интервальная шкала)"
   ]
  },
  {
   "cell_type": "code",
   "execution_count": 103,
   "metadata": {},
   "outputs": [
    {
     "name": "stdout",
     "output_type": "stream",
     "text": [
      "Информация об GDP\n",
      "min       max       median      mean             \n",
      "-4.06     3.51      0.32        0.001968806509945778\n"
     ]
    }
   ],
   "source": [
    "Inputs_info(bank['GDP'])"
   ]
  },
  {
   "cell_type": "markdown",
   "metadata": {},
   "source": [
    "### 37) Target - отчислен, продолжет обучение, выпуск (номинальная шкала)"
   ]
  },
  {
   "cell_type": "code",
   "execution_count": 104,
   "metadata": {},
   "outputs": [
    {
     "data": {
      "text/plain": [
       "Graduate    2209\n",
       "Dropout     1421\n",
       "Enrolled     794\n",
       "Name: Target, dtype: int64"
      ]
     },
     "execution_count": 104,
     "metadata": {},
     "output_type": "execute_result"
    }
   ],
   "source": [
    "bank[\"Target\"].value_counts()"
   ]
  },
  {
   "cell_type": "markdown",
   "metadata": {},
   "source": [
    "## 3. Визуализация для отдельных показателей."
   ]
  },
  {
   "cell_type": "code",
   "execution_count": 105,
   "metadata": {},
   "outputs": [],
   "source": [
    "import matplotlib.pyplot as plt\n",
    "import seaborn as sns"
   ]
  },
  {
   "cell_type": "markdown",
   "metadata": {},
   "source": [
    "### Количественные показатели"
   ]
  },
  {
   "cell_type": "markdown",
   "metadata": {},
   "source": [
    "#### Для показателя Age at enrollment"
   ]
  },
  {
   "cell_type": "code",
   "execution_count": 106,
   "metadata": {},
   "outputs": [
    {
     "data": {
      "text/plain": [
       "<Axes: xlabel='Age at enrollment', ylabel='Count'>"
      ]
     },
     "execution_count": 106,
     "metadata": {},
     "output_type": "execute_result"
    },
    {
     "data": {
      "image/png": "[encoded data removed]",
      "text/plain": [
       "<Figure size 640x480 with 1 Axes>"
      ]
     },
     "metadata": {},
     "output_type": "display_data"
    }
   ],
   "source": [
    "sns.histplot(x='Age at enrollment',data=bank, bins=15)"
   ]
  },
  {
   "cell_type": "markdown",
   "metadata": {},
   "source": [
    "#### Для показателя Admission grade"
   ]
  },
  {
   "cell_type": "code",
   "execution_count": 107,
   "metadata": {},
   "outputs": [
    {
     "data": {
      "text/plain": [
       "<Axes: xlabel='Admission grade', ylabel='Count'>"
      ]
     },
     "execution_count": 107,
     "metadata": {},
     "output_type": "execute_result"
    },
    {
     "data": {
      "image/png": "[encoded data removed]",
      "text/plain": [
       "<Figure size 640x480 with 1 Axes>"
      ]
     },
     "metadata": {},
     "output_type": "display_data"
    }
   ],
   "source": [
    "sns.histplot(x=\"Admission grade\",data=bank, bins=15)"
   ]
  },
  {
   "cell_type": "markdown",
   "metadata": {},
   "source": [
    "#### Для показателя Previous qualification (grade)"
   ]
  },
  {
   "cell_type": "code",
   "execution_count": 108,
   "metadata": {},
   "outputs": [
    {
     "data": {
      "text/plain": [
       "<Axes: xlabel='Previous qualification (grade)', ylabel='Count'>"
      ]
     },
     "execution_count": 108,
     "metadata": {},
     "output_type": "execute_result"
    },
    {
     "data": {
      "image/png": "[encoded data removed]",
      "text/plain": [
       "<Figure size 640x480 with 1 Axes>"
      ]
     },
     "metadata": {},
     "output_type": "display_data"
    }
   ],
   "source": [
    "sns.histplot(x=\"Previous qualification (grade)\",data=bank, bins=15)"
   ]
  },
  {
   "cell_type": "markdown",
   "metadata": {},
   "source": [
    "### Качественные показатели"
   ]
  },
  {
   "cell_type": "markdown",
   "metadata": {},
   "source": [
    "#### Для показателя Course"
   ]
  },
  {
   "cell_type": "code",
   "execution_count": 109,
   "metadata": {},
   "outputs": [
    {
     "data": {
      "text/plain": [
       "<Axes: xlabel='Course', ylabel='count'>"
      ]
     },
     "execution_count": 109,
     "metadata": {},
     "output_type": "execute_result"
    },
    {
     "data": {
      "image/png": "[encoded data removed]",
      "text/plain": [
       "<Figure size 2000x300 with 1 Axes>"
      ]
     },
     "metadata": {},
     "output_type": "display_data"
    }
   ],
   "source": [
    "fig = plt.figure(figsize = (20, 3))\n",
    "sns.countplot(x='Course',data=bank)"
   ]
  },
  {
   "cell_type": "markdown",
   "metadata": {},
   "source": [
    "#### Для показателя Nacionality"
   ]
  },
  {
   "cell_type": "code",
   "execution_count": 110,
   "metadata": {},
   "outputs": [
    {
     "data": {
      "text/plain": [
       "<Axes: xlabel='Nacionality', ylabel='count'>"
      ]
     },
     "execution_count": 110,
     "metadata": {},
     "output_type": "execute_result"
    },
    {
     "data": {
      "image/png": "[encoded data removed]",
      "text/plain": [
       "<Figure size 1000x300 with 1 Axes>"
      ]
     },
     "metadata": {},
     "output_type": "display_data"
    }
   ],
   "source": [
    "fig = plt.figure(figsize = (10, 3))\n",
    "sns.countplot(x='Nacionality',data=bank)"
   ]
  },
  {
   "cell_type": "markdown",
   "metadata": {},
   "source": [
    "#### Для показателя Application mode"
   ]
  },
  {
   "cell_type": "code",
   "execution_count": 111,
   "metadata": {},
   "outputs": [
    {
     "data": {
      "text/plain": [
       "<Axes: xlabel='Application mode', ylabel='count'>"
      ]
     },
     "execution_count": 111,
     "metadata": {},
     "output_type": "execute_result"
    },
    {
     "data": {
      "image/png": "[encoded data removed]",
      "text/plain": [
       "<Figure size 1600x300 with 1 Axes>"
      ]
     },
     "metadata": {},
     "output_type": "display_data"
    }
   ],
   "source": [
    "fig = plt.figure(figsize = (16, 3))\n",
    "sns.countplot(x='Application mode',data=bank)"
   ]
  },
  {
   "cell_type": "markdown",
   "metadata": {},
   "source": [
    "## 4. Группировка объектов."
   ]
  },
  {
   "cell_type": "markdown",
   "metadata": {},
   "source": [
    "Группировать было принято решение отталкиваясь от последнего столбца с данными о статусе студента. Сравниваться будут два показателя: Dropout (отчислен), Enrolled (продолжает обучение). Целью данной групировки является найти факторы наиболее влияющие на статус студента. "
   ]
  },
  {
   "cell_type": "code",
   "execution_count": 112,
   "metadata": {},
   "outputs": [
    {
     "data": {
      "text/html": [
       "<div>\n",
       "<style scoped>\n",
       "    .dataframe tbody tr th:only-of-type {\n",
       "        vertical-align: middle;\n",
       "    }\n",
       "\n",
       "    .dataframe tbody tr th {\n",
       "        vertical-align: top;\n",
       "    }\n",
       "\n",
       "    .dataframe thead th {\n",
       "        text-align: right;\n",
       "    }\n",
       "</style>\n",
       "<table border=\"1\" class=\"dataframe\">\n",
       "  <thead>\n",
       "    <tr style=\"text-align: right;\">\n",
       "      <th></th>\n",
       "      <th>Application order</th>\n",
       "      <th>Previous qualification (grade)</th>\n",
       "      <th>Admission grade</th>\n",
       "      <th>Age at enrollment</th>\n",
       "      <th>Curricular units 1st sem (credited)</th>\n",
       "      <th>Curricular units 1st sem (enrolled)</th>\n",
       "      <th>Curricular units 1st sem (evaluations)</th>\n",
       "      <th>Curricular units 1st sem (approved)</th>\n",
       "      <th>Curricular units 1st sem (grade)</th>\n",
       "      <th>Curricular units 1st sem (without evaluations)</th>\n",
       "      <th>Curricular units 2nd sem (credited)</th>\n",
       "      <th>Curricular units 2nd sem (enrolled)</th>\n",
       "      <th>Curricular units 2nd sem (evaluations)</th>\n",
       "      <th>Curricular units 2nd sem (approved)</th>\n",
       "      <th>Curricular units 2nd sem (grade)</th>\n",
       "      <th>Curricular units 2nd sem (without evaluations)</th>\n",
       "      <th>Unemployment rate</th>\n",
       "      <th>Inflation rate</th>\n",
       "      <th>GDP</th>\n",
       "    </tr>\n",
       "  </thead>\n",
       "  <tbody>\n",
       "    <tr>\n",
       "      <th>count</th>\n",
       "      <td>1421.000000</td>\n",
       "      <td>1421.000000</td>\n",
       "      <td>1421.000000</td>\n",
       "      <td>1421.000000</td>\n",
       "      <td>1421.000000</td>\n",
       "      <td>1421.000000</td>\n",
       "      <td>1421.000000</td>\n",
       "      <td>1421.000000</td>\n",
       "      <td>1421.000000</td>\n",
       "      <td>1421.000000</td>\n",
       "      <td>1421.000000</td>\n",
       "      <td>1421.000000</td>\n",
       "      <td>1421.000000</td>\n",
       "      <td>1421.000000</td>\n",
       "      <td>1421.000000</td>\n",
       "      <td>1421.000000</td>\n",
       "      <td>1421.000000</td>\n",
       "      <td>1421.000000</td>\n",
       "      <td>1421.000000</td>\n",
       "    </tr>\n",
       "    <tr>\n",
       "      <th>mean</th>\n",
       "      <td>1.593244</td>\n",
       "      <td>131.114075</td>\n",
       "      <td>124.961365</td>\n",
       "      <td>26.068966</td>\n",
       "      <td>0.609430</td>\n",
       "      <td>5.821253</td>\n",
       "      <td>7.751583</td>\n",
       "      <td>2.551724</td>\n",
       "      <td>7.256656</td>\n",
       "      <td>0.192118</td>\n",
       "      <td>0.449683</td>\n",
       "      <td>5.780436</td>\n",
       "      <td>7.173821</td>\n",
       "      <td>1.940183</td>\n",
       "      <td>5.899339</td>\n",
       "      <td>0.237861</td>\n",
       "      <td>11.616397</td>\n",
       "      <td>1.283955</td>\n",
       "      <td>-0.150859</td>\n",
       "    </tr>\n",
       "    <tr>\n",
       "      <th>std</th>\n",
       "      <td>1.215769</td>\n",
       "      <td>12.873354</td>\n",
       "      <td>15.125159</td>\n",
       "      <td>8.704024</td>\n",
       "      <td>2.104695</td>\n",
       "      <td>2.326304</td>\n",
       "      <td>4.921590</td>\n",
       "      <td>2.857588</td>\n",
       "      <td>6.031120</td>\n",
       "      <td>0.794591</td>\n",
       "      <td>1.679548</td>\n",
       "      <td>2.108249</td>\n",
       "      <td>4.817374</td>\n",
       "      <td>2.573691</td>\n",
       "      <td>6.118740</td>\n",
       "      <td>0.994210</td>\n",
       "      <td>2.768259</td>\n",
       "      <td>1.404970</td>\n",
       "      <td>2.251768</td>\n",
       "    </tr>\n",
       "    <tr>\n",
       "      <th>min</th>\n",
       "      <td>1.000000</td>\n",
       "      <td>95.000000</td>\n",
       "      <td>95.000000</td>\n",
       "      <td>18.000000</td>\n",
       "      <td>0.000000</td>\n",
       "      <td>0.000000</td>\n",
       "      <td>0.000000</td>\n",
       "      <td>0.000000</td>\n",
       "      <td>0.000000</td>\n",
       "      <td>0.000000</td>\n",
       "      <td>0.000000</td>\n",
       "      <td>0.000000</td>\n",
       "      <td>0.000000</td>\n",
       "      <td>0.000000</td>\n",
       "      <td>0.000000</td>\n",
       "      <td>0.000000</td>\n",
       "      <td>7.600000</td>\n",
       "      <td>-0.800000</td>\n",
       "      <td>-4.060000</td>\n",
       "    </tr>\n",
       "    <tr>\n",
       "      <th>25%</th>\n",
       "      <td>1.000000</td>\n",
       "      <td>122.000000</td>\n",
       "      <td>115.000000</td>\n",
       "      <td>19.000000</td>\n",
       "      <td>0.000000</td>\n",
       "      <td>5.000000</td>\n",
       "      <td>5.000000</td>\n",
       "      <td>0.000000</td>\n",
       "      <td>0.000000</td>\n",
       "      <td>0.000000</td>\n",
       "      <td>0.000000</td>\n",
       "      <td>5.000000</td>\n",
       "      <td>5.000000</td>\n",
       "      <td>0.000000</td>\n",
       "      <td>0.000000</td>\n",
       "      <td>0.000000</td>\n",
       "      <td>9.400000</td>\n",
       "      <td>0.300000</td>\n",
       "      <td>-1.700000</td>\n",
       "    </tr>\n",
       "    <tr>\n",
       "      <th>50%</th>\n",
       "      <td>1.000000</td>\n",
       "      <td>133.100000</td>\n",
       "      <td>123.600000</td>\n",
       "      <td>23.000000</td>\n",
       "      <td>0.000000</td>\n",
       "      <td>6.000000</td>\n",
       "      <td>8.000000</td>\n",
       "      <td>2.000000</td>\n",
       "      <td>10.928571</td>\n",
       "      <td>0.000000</td>\n",
       "      <td>0.000000</td>\n",
       "      <td>6.000000</td>\n",
       "      <td>7.000000</td>\n",
       "      <td>0.000000</td>\n",
       "      <td>0.000000</td>\n",
       "      <td>0.000000</td>\n",
       "      <td>11.100000</td>\n",
       "      <td>1.400000</td>\n",
       "      <td>0.320000</td>\n",
       "    </tr>\n",
       "    <tr>\n",
       "      <th>75%</th>\n",
       "      <td>2.000000</td>\n",
       "      <td>137.000000</td>\n",
       "      <td>133.000000</td>\n",
       "      <td>30.000000</td>\n",
       "      <td>0.000000</td>\n",
       "      <td>6.000000</td>\n",
       "      <td>11.000000</td>\n",
       "      <td>4.000000</td>\n",
       "      <td>12.200000</td>\n",
       "      <td>0.000000</td>\n",
       "      <td>0.000000</td>\n",
       "      <td>6.000000</td>\n",
       "      <td>10.000000</td>\n",
       "      <td>4.000000</td>\n",
       "      <td>11.833333</td>\n",
       "      <td>0.000000</td>\n",
       "      <td>13.900000</td>\n",
       "      <td>2.600000</td>\n",
       "      <td>1.740000</td>\n",
       "    </tr>\n",
       "    <tr>\n",
       "      <th>max</th>\n",
       "      <td>6.000000</td>\n",
       "      <td>190.000000</td>\n",
       "      <td>190.000000</td>\n",
       "      <td>70.000000</td>\n",
       "      <td>18.000000</td>\n",
       "      <td>21.000000</td>\n",
       "      <td>31.000000</td>\n",
       "      <td>21.000000</td>\n",
       "      <td>18.000000</td>\n",
       "      <td>8.000000</td>\n",
       "      <td>16.000000</td>\n",
       "      <td>18.000000</td>\n",
       "      <td>25.000000</td>\n",
       "      <td>16.000000</td>\n",
       "      <td>17.714286</td>\n",
       "      <td>12.000000</td>\n",
       "      <td>16.200000</td>\n",
       "      <td>3.700000</td>\n",
       "      <td>3.510000</td>\n",
       "    </tr>\n",
       "  </tbody>\n",
       "</table>\n",
       "</div>"
      ],
      "text/plain": [
       "       Application order  Previous qualification (grade)  Admission grade  \\\n",
       "count        1421.000000                     1421.000000      1421.000000   \n",
       "mean            1.593244                      131.114075       124.961365   \n",
       "std             1.215769                       12.873354        15.125159   \n",
       "min             1.000000                       95.000000        95.000000   \n",
       "25%             1.000000                      122.000000       115.000000   \n",
       "50%             1.000000                      133.100000       123.600000   \n",
       "75%             2.000000                      137.000000       133.000000   \n",
       "max             6.000000                      190.000000       190.000000   \n",
       "\n",
       "       Age at enrollment  Curricular units 1st sem (credited)  \\\n",
       "count        1421.000000                          1421.000000   \n",
       "mean           26.068966                             0.609430   \n",
       "std             8.704024                             2.104695   \n",
       "min            18.000000                             0.000000   \n",
       "25%            19.000000                             0.000000   \n",
       "50%            23.000000                             0.000000   \n",
       "75%            30.000000                             0.000000   \n",
       "max            70.000000                            18.000000   \n",
       "\n",
       "       Curricular units 1st sem (enrolled)  \\\n",
       "count                          1421.000000   \n",
       "mean                              5.821253   \n",
       "std                               2.326304   \n",
       "min                               0.000000   \n",
       "25%                               5.000000   \n",
       "50%                               6.000000   \n",
       "75%                               6.000000   \n",
       "max                              21.000000   \n",
       "\n",
       "       Curricular units 1st sem (evaluations)  \\\n",
       "count                             1421.000000   \n",
       "mean                                 7.751583   \n",
       "std                                  4.921590   \n",
       "min                                  0.000000   \n",
       "25%                                  5.000000   \n",
       "50%                                  8.000000   \n",
       "75%                                 11.000000   \n",
       "max                                 31.000000   \n",
       "\n",
       "       Curricular units 1st sem (approved)  Curricular units 1st sem (grade)  \\\n",
       "count                          1421.000000                       1421.000000   \n",
       "mean                              2.551724                          7.256656   \n",
       "std                               2.857588                          6.031120   \n",
       "min                               0.000000                          0.000000   \n",
       "25%                               0.000000                          0.000000   \n",
       "50%                               2.000000                         10.928571   \n",
       "75%                               4.000000                         12.200000   \n",
       "max                              21.000000                         18.000000   \n",
       "\n",
       "       Curricular units 1st sem (without evaluations)  \\\n",
       "count                                     1421.000000   \n",
       "mean                                         0.192118   \n",
       "std                                          0.794591   \n",
       "min                                          0.000000   \n",
       "25%                                          0.000000   \n",
       "50%                                          0.000000   \n",
       "75%                                          0.000000   \n",
       "max                                          8.000000   \n",
       "\n",
       "       Curricular units 2nd sem (credited)  \\\n",
       "count                          1421.000000   \n",
       "mean                              0.449683   \n",
       "std                               1.679548   \n",
       "min                               0.000000   \n",
       "25%                               0.000000   \n",
       "50%                               0.000000   \n",
       "75%                               0.000000   \n",
       "max                              16.000000   \n",
       "\n",
       "       Curricular units 2nd sem (enrolled)  \\\n",
       "count                          1421.000000   \n",
       "mean                              5.780436   \n",
       "std                               2.108249   \n",
       "min                               0.000000   \n",
       "25%                               5.000000   \n",
       "50%                               6.000000   \n",
       "75%                               6.000000   \n",
       "max                              18.000000   \n",
       "\n",
       "       Curricular units 2nd sem (evaluations)  \\\n",
       "count                             1421.000000   \n",
       "mean                                 7.173821   \n",
       "std                                  4.817374   \n",
       "min                                  0.000000   \n",
       "25%                                  5.000000   \n",
       "50%                                  7.000000   \n",
       "75%                                 10.000000   \n",
       "max                                 25.000000   \n",
       "\n",
       "       Curricular units 2nd sem (approved)  Curricular units 2nd sem (grade)  \\\n",
       "count                          1421.000000                       1421.000000   \n",
       "mean                              1.940183                          5.899339   \n",
       "std                               2.573691                          6.118740   \n",
       "min                               0.000000                          0.000000   \n",
       "25%                               0.000000                          0.000000   \n",
       "50%                               0.000000                          0.000000   \n",
       "75%                               4.000000                         11.833333   \n",
       "max                              16.000000                         17.714286   \n",
       "\n",
       "       Curricular units 2nd sem (without evaluations)  Unemployment rate  \\\n",
       "count                                     1421.000000        1421.000000   \n",
       "mean                                         0.237861          11.616397   \n",
       "std                                          0.994210           2.768259   \n",
       "min                                          0.000000           7.600000   \n",
       "25%                                          0.000000           9.400000   \n",
       "50%                                          0.000000          11.100000   \n",
       "75%                                          0.000000          13.900000   \n",
       "max                                         12.000000          16.200000   \n",
       "\n",
       "       Inflation rate          GDP  \n",
       "count     1421.000000  1421.000000  \n",
       "mean         1.283955    -0.150859  \n",
       "std          1.404970     2.251768  \n",
       "min         -0.800000    -4.060000  \n",
       "25%          0.300000    -1.700000  \n",
       "50%          1.400000     0.320000  \n",
       "75%          2.600000     1.740000  \n",
       "max          3.700000     3.510000  "
      ]
     },
     "execution_count": 112,
     "metadata": {},
     "output_type": "execute_result"
    }
   ],
   "source": [
    "dropout = bank[bank['Target'] == 'Dropout'].select_dtypes(exclude=\"object\").describe()\n",
    "dropout"
   ]
  },
  {
   "cell_type": "code",
   "execution_count": 113,
   "metadata": {},
   "outputs": [
    {
     "data": {
      "text/html": [
       "<div>\n",
       "<style scoped>\n",
       "    .dataframe tbody tr th:only-of-type {\n",
       "        vertical-align: middle;\n",
       "    }\n",
       "\n",
       "    .dataframe tbody tr th {\n",
       "        vertical-align: top;\n",
       "    }\n",
       "\n",
       "    .dataframe thead th {\n",
       "        text-align: right;\n",
       "    }\n",
       "</style>\n",
       "<table border=\"1\" class=\"dataframe\">\n",
       "  <thead>\n",
       "    <tr style=\"text-align: right;\">\n",
       "      <th></th>\n",
       "      <th>Application order</th>\n",
       "      <th>Previous qualification (grade)</th>\n",
       "      <th>Admission grade</th>\n",
       "      <th>Age at enrollment</th>\n",
       "      <th>Curricular units 1st sem (credited)</th>\n",
       "      <th>Curricular units 1st sem (enrolled)</th>\n",
       "      <th>Curricular units 1st sem (evaluations)</th>\n",
       "      <th>Curricular units 1st sem (approved)</th>\n",
       "      <th>Curricular units 1st sem (grade)</th>\n",
       "      <th>Curricular units 1st sem (without evaluations)</th>\n",
       "      <th>Curricular units 2nd sem (credited)</th>\n",
       "      <th>Curricular units 2nd sem (enrolled)</th>\n",
       "      <th>Curricular units 2nd sem (evaluations)</th>\n",
       "      <th>Curricular units 2nd sem (approved)</th>\n",
       "      <th>Curricular units 2nd sem (grade)</th>\n",
       "      <th>Curricular units 2nd sem (without evaluations)</th>\n",
       "      <th>Unemployment rate</th>\n",
       "      <th>Inflation rate</th>\n",
       "      <th>GDP</th>\n",
       "    </tr>\n",
       "  </thead>\n",
       "  <tbody>\n",
       "    <tr>\n",
       "      <th>count</th>\n",
       "      <td>794.000000</td>\n",
       "      <td>794.000000</td>\n",
       "      <td>794.000000</td>\n",
       "      <td>794.000000</td>\n",
       "      <td>794.000000</td>\n",
       "      <td>794.000000</td>\n",
       "      <td>794.000000</td>\n",
       "      <td>794.000000</td>\n",
       "      <td>794.000000</td>\n",
       "      <td>794.000000</td>\n",
       "      <td>794.000000</td>\n",
       "      <td>794.000000</td>\n",
       "      <td>794.000000</td>\n",
       "      <td>794.000000</td>\n",
       "      <td>794.000000</td>\n",
       "      <td>794.000000</td>\n",
       "      <td>794.000000</td>\n",
       "      <td>794.000000</td>\n",
       "      <td>794.000000</td>\n",
       "    </tr>\n",
       "    <tr>\n",
       "      <th>mean</th>\n",
       "      <td>1.625945</td>\n",
       "      <td>131.208438</td>\n",
       "      <td>125.534257</td>\n",
       "      <td>22.369018</td>\n",
       "      <td>0.507557</td>\n",
       "      <td>5.964736</td>\n",
       "      <td>9.341310</td>\n",
       "      <td>4.318640</td>\n",
       "      <td>11.125257</td>\n",
       "      <td>0.177582</td>\n",
       "      <td>0.358942</td>\n",
       "      <td>5.938287</td>\n",
       "      <td>9.435768</td>\n",
       "      <td>4.057935</td>\n",
       "      <td>11.117364</td>\n",
       "      <td>0.187657</td>\n",
       "      <td>11.272544</td>\n",
       "      <td>1.211713</td>\n",
       "      <td>0.053287</td>\n",
       "    </tr>\n",
       "    <tr>\n",
       "      <th>std</th>\n",
       "      <td>1.213577</td>\n",
       "      <td>12.872111</td>\n",
       "      <td>13.792559</td>\n",
       "      <td>6.302672</td>\n",
       "      <td>1.715758</td>\n",
       "      <td>1.987671</td>\n",
       "      <td>3.463465</td>\n",
       "      <td>2.289398</td>\n",
       "      <td>3.675084</td>\n",
       "      <td>0.741459</td>\n",
       "      <td>1.329034</td>\n",
       "      <td>1.831480</td>\n",
       "      <td>3.566558</td>\n",
       "      <td>2.180197</td>\n",
       "      <td>3.601240</td>\n",
       "      <td>0.780467</td>\n",
       "      <td>2.628139</td>\n",
       "      <td>1.373355</td>\n",
       "      <td>2.315631</td>\n",
       "    </tr>\n",
       "    <tr>\n",
       "      <th>min</th>\n",
       "      <td>1.000000</td>\n",
       "      <td>96.000000</td>\n",
       "      <td>95.000000</td>\n",
       "      <td>17.000000</td>\n",
       "      <td>0.000000</td>\n",
       "      <td>0.000000</td>\n",
       "      <td>0.000000</td>\n",
       "      <td>0.000000</td>\n",
       "      <td>0.000000</td>\n",
       "      <td>0.000000</td>\n",
       "      <td>0.000000</td>\n",
       "      <td>0.000000</td>\n",
       "      <td>0.000000</td>\n",
       "      <td>0.000000</td>\n",
       "      <td>0.000000</td>\n",
       "      <td>0.000000</td>\n",
       "      <td>7.600000</td>\n",
       "      <td>-0.800000</td>\n",
       "      <td>-4.060000</td>\n",
       "    </tr>\n",
       "    <tr>\n",
       "      <th>25%</th>\n",
       "      <td>1.000000</td>\n",
       "      <td>123.000000</td>\n",
       "      <td>117.000000</td>\n",
       "      <td>19.000000</td>\n",
       "      <td>0.000000</td>\n",
       "      <td>5.000000</td>\n",
       "      <td>7.000000</td>\n",
       "      <td>3.000000</td>\n",
       "      <td>11.000000</td>\n",
       "      <td>0.000000</td>\n",
       "      <td>0.000000</td>\n",
       "      <td>5.000000</td>\n",
       "      <td>8.000000</td>\n",
       "      <td>3.000000</td>\n",
       "      <td>11.000000</td>\n",
       "      <td>0.000000</td>\n",
       "      <td>9.400000</td>\n",
       "      <td>0.300000</td>\n",
       "      <td>-1.700000</td>\n",
       "    </tr>\n",
       "    <tr>\n",
       "      <th>50%</th>\n",
       "      <td>1.000000</td>\n",
       "      <td>130.000000</td>\n",
       "      <td>124.100000</td>\n",
       "      <td>20.000000</td>\n",
       "      <td>0.000000</td>\n",
       "      <td>6.000000</td>\n",
       "      <td>9.000000</td>\n",
       "      <td>5.000000</td>\n",
       "      <td>12.000000</td>\n",
       "      <td>0.000000</td>\n",
       "      <td>0.000000</td>\n",
       "      <td>6.000000</td>\n",
       "      <td>9.000000</td>\n",
       "      <td>4.000000</td>\n",
       "      <td>12.000000</td>\n",
       "      <td>0.000000</td>\n",
       "      <td>11.100000</td>\n",
       "      <td>1.400000</td>\n",
       "      <td>0.320000</td>\n",
       "    </tr>\n",
       "    <tr>\n",
       "      <th>75%</th>\n",
       "      <td>2.000000</td>\n",
       "      <td>139.000000</td>\n",
       "      <td>133.275000</td>\n",
       "      <td>23.000000</td>\n",
       "      <td>0.000000</td>\n",
       "      <td>6.000000</td>\n",
       "      <td>11.000000</td>\n",
       "      <td>6.000000</td>\n",
       "      <td>12.857143</td>\n",
       "      <td>0.000000</td>\n",
       "      <td>0.000000</td>\n",
       "      <td>6.000000</td>\n",
       "      <td>11.000000</td>\n",
       "      <td>5.000000</td>\n",
       "      <td>12.818182</td>\n",
       "      <td>0.000000</td>\n",
       "      <td>12.700000</td>\n",
       "      <td>2.600000</td>\n",
       "      <td>1.790000</td>\n",
       "    </tr>\n",
       "    <tr>\n",
       "      <th>max</th>\n",
       "      <td>9.000000</td>\n",
       "      <td>190.000000</td>\n",
       "      <td>190.000000</td>\n",
       "      <td>54.000000</td>\n",
       "      <td>14.000000</td>\n",
       "      <td>17.000000</td>\n",
       "      <td>24.000000</td>\n",
       "      <td>15.000000</td>\n",
       "      <td>17.000000</td>\n",
       "      <td>8.000000</td>\n",
       "      <td>12.000000</td>\n",
       "      <td>17.000000</td>\n",
       "      <td>28.000000</td>\n",
       "      <td>12.000000</td>\n",
       "      <td>17.600000</td>\n",
       "      <td>8.000000</td>\n",
       "      <td>16.200000</td>\n",
       "      <td>3.700000</td>\n",
       "      <td>3.510000</td>\n",
       "    </tr>\n",
       "  </tbody>\n",
       "</table>\n",
       "</div>"
      ],
      "text/plain": [
       "       Application order  Previous qualification (grade)  Admission grade  \\\n",
       "count         794.000000                      794.000000       794.000000   \n",
       "mean            1.625945                      131.208438       125.534257   \n",
       "std             1.213577                       12.872111        13.792559   \n",
       "min             1.000000                       96.000000        95.000000   \n",
       "25%             1.000000                      123.000000       117.000000   \n",
       "50%             1.000000                      130.000000       124.100000   \n",
       "75%             2.000000                      139.000000       133.275000   \n",
       "max             9.000000                      190.000000       190.000000   \n",
       "\n",
       "       Age at enrollment  Curricular units 1st sem (credited)  \\\n",
       "count         794.000000                           794.000000   \n",
       "mean           22.369018                             0.507557   \n",
       "std             6.302672                             1.715758   \n",
       "min            17.000000                             0.000000   \n",
       "25%            19.000000                             0.000000   \n",
       "50%            20.000000                             0.000000   \n",
       "75%            23.000000                             0.000000   \n",
       "max            54.000000                            14.000000   \n",
       "\n",
       "       Curricular units 1st sem (enrolled)  \\\n",
       "count                           794.000000   \n",
       "mean                              5.964736   \n",
       "std                               1.987671   \n",
       "min                               0.000000   \n",
       "25%                               5.000000   \n",
       "50%                               6.000000   \n",
       "75%                               6.000000   \n",
       "max                              17.000000   \n",
       "\n",
       "       Curricular units 1st sem (evaluations)  \\\n",
       "count                              794.000000   \n",
       "mean                                 9.341310   \n",
       "std                                  3.463465   \n",
       "min                                  0.000000   \n",
       "25%                                  7.000000   \n",
       "50%                                  9.000000   \n",
       "75%                                 11.000000   \n",
       "max                                 24.000000   \n",
       "\n",
       "       Curricular units 1st sem (approved)  Curricular units 1st sem (grade)  \\\n",
       "count                           794.000000                        794.000000   \n",
       "mean                              4.318640                         11.125257   \n",
       "std                               2.289398                          3.675084   \n",
       "min                               0.000000                          0.000000   \n",
       "25%                               3.000000                         11.000000   \n",
       "50%                               5.000000                         12.000000   \n",
       "75%                               6.000000                         12.857143   \n",
       "max                              15.000000                         17.000000   \n",
       "\n",
       "       Curricular units 1st sem (without evaluations)  \\\n",
       "count                                      794.000000   \n",
       "mean                                         0.177582   \n",
       "std                                          0.741459   \n",
       "min                                          0.000000   \n",
       "25%                                          0.000000   \n",
       "50%                                          0.000000   \n",
       "75%                                          0.000000   \n",
       "max                                          8.000000   \n",
       "\n",
       "       Curricular units 2nd sem (credited)  \\\n",
       "count                           794.000000   \n",
       "mean                              0.358942   \n",
       "std                               1.329034   \n",
       "min                               0.000000   \n",
       "25%                               0.000000   \n",
       "50%                               0.000000   \n",
       "75%                               0.000000   \n",
       "max                              12.000000   \n",
       "\n",
       "       Curricular units 2nd sem (enrolled)  \\\n",
       "count                           794.000000   \n",
       "mean                              5.938287   \n",
       "std                               1.831480   \n",
       "min                               0.000000   \n",
       "25%                               5.000000   \n",
       "50%                               6.000000   \n",
       "75%                               6.000000   \n",
       "max                              17.000000   \n",
       "\n",
       "       Curricular units 2nd sem (evaluations)  \\\n",
       "count                              794.000000   \n",
       "mean                                 9.435768   \n",
       "std                                  3.566558   \n",
       "min                                  0.000000   \n",
       "25%                                  8.000000   \n",
       "50%                                  9.000000   \n",
       "75%                                 11.000000   \n",
       "max                                 28.000000   \n",
       "\n",
       "       Curricular units 2nd sem (approved)  Curricular units 2nd sem (grade)  \\\n",
       "count                           794.000000                        794.000000   \n",
       "mean                              4.057935                         11.117364   \n",
       "std                               2.180197                          3.601240   \n",
       "min                               0.000000                          0.000000   \n",
       "25%                               3.000000                         11.000000   \n",
       "50%                               4.000000                         12.000000   \n",
       "75%                               5.000000                         12.818182   \n",
       "max                              12.000000                         17.600000   \n",
       "\n",
       "       Curricular units 2nd sem (without evaluations)  Unemployment rate  \\\n",
       "count                                      794.000000         794.000000   \n",
       "mean                                         0.187657          11.272544   \n",
       "std                                          0.780467           2.628139   \n",
       "min                                          0.000000           7.600000   \n",
       "25%                                          0.000000           9.400000   \n",
       "50%                                          0.000000          11.100000   \n",
       "75%                                          0.000000          12.700000   \n",
       "max                                          8.000000          16.200000   \n",
       "\n",
       "       Inflation rate         GDP  \n",
       "count      794.000000  794.000000  \n",
       "mean         1.211713    0.053287  \n",
       "std          1.373355    2.315631  \n",
       "min         -0.800000   -4.060000  \n",
       "25%          0.300000   -1.700000  \n",
       "50%          1.400000    0.320000  \n",
       "75%          2.600000    1.790000  \n",
       "max          3.700000    3.510000  "
      ]
     },
     "execution_count": 113,
     "metadata": {},
     "output_type": "execute_result"
    }
   ],
   "source": [
    "enrolled = bank[bank['Target'] == 'Enrolled'].select_dtypes(exclude=\"object\").describe()\n",
    "enrolled"
   ]
  },
  {
   "cell_type": "code",
   "execution_count": 114,
   "metadata": {},
   "outputs": [
    {
     "data": {
      "text/plain": [
       "Application order                                 0.032700\n",
       "Previous qualification (grade)                    0.094364\n",
       "Admission grade                                   0.572892\n",
       "Age at enrollment                                 3.699948\n",
       "Curricular units 1st sem (credited)               0.101873\n",
       "Curricular units 1st sem (enrolled)               0.143483\n",
       "Curricular units 1st sem (evaluations)            1.589726\n",
       "Curricular units 1st sem (approved)               1.766916\n",
       "Curricular units 1st sem (grade)                  3.868602\n",
       "Curricular units 1st sem (without evaluations)    0.014536\n",
       "Curricular units 2nd sem (credited)               0.090741\n",
       "Curricular units 2nd sem (enrolled)               0.157851\n",
       "Curricular units 2nd sem (evaluations)            2.261947\n",
       "Curricular units 2nd sem (approved)               2.117752\n",
       "Curricular units 2nd sem (grade)                  5.218025\n",
       "Curricular units 2nd sem (without evaluations)    0.050203\n",
       "Unemployment rate                                 0.343853\n",
       "Inflation rate                                    0.072242\n",
       "GDP                                               0.204146\n",
       "Name: mean, dtype: float64"
      ]
     },
     "execution_count": 114,
     "metadata": {},
     "output_type": "execute_result"
    }
   ],
   "source": [
    "dif = dropout.loc['mean'] - enrolled.loc['mean']\n",
    "dif.abs()"
   ]
  },
  {
   "cell_type": "markdown",
   "metadata": {},
   "source": [
    "Показатель, который имеет наибольшую разницу в средних значениях для групп это - Curricular units 2nd sem (grade). "
   ]
  },
  {
   "cell_type": "code",
   "execution_count": 115,
   "metadata": {},
   "outputs": [
    {
     "data": {
      "text/plain": [
       "<Axes: title={'center': 'Curricular units 2nd sem (grade)'}, xlabel='Target'>"
      ]
     },
     "execution_count": 115,
     "metadata": {},
     "output_type": "execute_result"
    },
    {
     "data": {
      "image/png": "[encoded data removed]",
      "text/plain": [
       "<Figure size 640x480 with 1 Axes>"
      ]
     },
     "metadata": {},
     "output_type": "display_data"
    }
   ],
   "source": [
    "bank.boxplot(column=['Curricular units 2nd sem (grade)'], by='Target')"
   ]
  },
  {
   "cell_type": "code",
   "execution_count": 116,
   "metadata": {},
   "outputs": [
    {
     "data": {
      "text/html": [
       "<div>\n",
       "<style scoped>\n",
       "    .dataframe tbody tr th:only-of-type {\n",
       "        vertical-align: middle;\n",
       "    }\n",
       "\n",
       "    .dataframe tbody tr th {\n",
       "        vertical-align: top;\n",
       "    }\n",
       "\n",
       "    .dataframe thead th {\n",
       "        text-align: right;\n",
       "    }\n",
       "</style>\n",
       "<table border=\"1\" class=\"dataframe\">\n",
       "  <thead>\n",
       "    <tr style=\"text-align: right;\">\n",
       "      <th></th>\n",
       "      <th>Marital status</th>\n",
       "      <th>Application mode</th>\n",
       "      <th>Course</th>\n",
       "      <th>Daytime/evening attendance\\t</th>\n",
       "      <th>Previous qualification</th>\n",
       "      <th>Nacionality</th>\n",
       "      <th>Mother's qualification</th>\n",
       "      <th>Father's qualification</th>\n",
       "      <th>Mother's occupation</th>\n",
       "      <th>Father's occupation</th>\n",
       "      <th>Displaced</th>\n",
       "      <th>Educational special needs</th>\n",
       "      <th>Debtor</th>\n",
       "      <th>Tuition fees up to date</th>\n",
       "      <th>Gender</th>\n",
       "      <th>Scholarship holder</th>\n",
       "      <th>International</th>\n",
       "      <th>Target</th>\n",
       "    </tr>\n",
       "  </thead>\n",
       "  <tbody>\n",
       "    <tr>\n",
       "      <th>0</th>\n",
       "      <td>1</td>\n",
       "      <td>17</td>\n",
       "      <td>171</td>\n",
       "      <td>1</td>\n",
       "      <td>1</td>\n",
       "      <td>1</td>\n",
       "      <td>19</td>\n",
       "      <td>12</td>\n",
       "      <td>5</td>\n",
       "      <td>9</td>\n",
       "      <td>1</td>\n",
       "      <td>0</td>\n",
       "      <td>0</td>\n",
       "      <td>1</td>\n",
       "      <td>1</td>\n",
       "      <td>0</td>\n",
       "      <td>0</td>\n",
       "      <td>Dropout</td>\n",
       "    </tr>\n",
       "    <tr>\n",
       "      <th>2</th>\n",
       "      <td>1</td>\n",
       "      <td>1</td>\n",
       "      <td>9070</td>\n",
       "      <td>1</td>\n",
       "      <td>1</td>\n",
       "      <td>1</td>\n",
       "      <td>37</td>\n",
       "      <td>37</td>\n",
       "      <td>9</td>\n",
       "      <td>9</td>\n",
       "      <td>1</td>\n",
       "      <td>0</td>\n",
       "      <td>0</td>\n",
       "      <td>0</td>\n",
       "      <td>1</td>\n",
       "      <td>0</td>\n",
       "      <td>0</td>\n",
       "      <td>Dropout</td>\n",
       "    </tr>\n",
       "    <tr>\n",
       "      <th>7</th>\n",
       "      <td>1</td>\n",
       "      <td>18</td>\n",
       "      <td>9254</td>\n",
       "      <td>1</td>\n",
       "      <td>1</td>\n",
       "      <td>1</td>\n",
       "      <td>37</td>\n",
       "      <td>37</td>\n",
       "      <td>9</td>\n",
       "      <td>9</td>\n",
       "      <td>1</td>\n",
       "      <td>0</td>\n",
       "      <td>0</td>\n",
       "      <td>0</td>\n",
       "      <td>1</td>\n",
       "      <td>0</td>\n",
       "      <td>0</td>\n",
       "      <td>Dropout</td>\n",
       "    </tr>\n",
       "    <tr>\n",
       "      <th>9</th>\n",
       "      <td>1</td>\n",
       "      <td>1</td>\n",
       "      <td>9238</td>\n",
       "      <td>1</td>\n",
       "      <td>1</td>\n",
       "      <td>1</td>\n",
       "      <td>1</td>\n",
       "      <td>19</td>\n",
       "      <td>4</td>\n",
       "      <td>7</td>\n",
       "      <td>1</td>\n",
       "      <td>0</td>\n",
       "      <td>1</td>\n",
       "      <td>0</td>\n",
       "      <td>0</td>\n",
       "      <td>0</td>\n",
       "      <td>0</td>\n",
       "      <td>Dropout</td>\n",
       "    </tr>\n",
       "    <tr>\n",
       "      <th>12</th>\n",
       "      <td>1</td>\n",
       "      <td>1</td>\n",
       "      <td>9853</td>\n",
       "      <td>1</td>\n",
       "      <td>1</td>\n",
       "      <td>1</td>\n",
       "      <td>19</td>\n",
       "      <td>37</td>\n",
       "      <td>4</td>\n",
       "      <td>9</td>\n",
       "      <td>1</td>\n",
       "      <td>0</td>\n",
       "      <td>0</td>\n",
       "      <td>1</td>\n",
       "      <td>0</td>\n",
       "      <td>0</td>\n",
       "      <td>0</td>\n",
       "      <td>Dropout</td>\n",
       "    </tr>\n",
       "    <tr>\n",
       "      <th>...</th>\n",
       "      <td>...</td>\n",
       "      <td>...</td>\n",
       "      <td>...</td>\n",
       "      <td>...</td>\n",
       "      <td>...</td>\n",
       "      <td>...</td>\n",
       "      <td>...</td>\n",
       "      <td>...</td>\n",
       "      <td>...</td>\n",
       "      <td>...</td>\n",
       "      <td>...</td>\n",
       "      <td>...</td>\n",
       "      <td>...</td>\n",
       "      <td>...</td>\n",
       "      <td>...</td>\n",
       "      <td>...</td>\n",
       "      <td>...</td>\n",
       "      <td>...</td>\n",
       "    </tr>\n",
       "    <tr>\n",
       "      <th>4408</th>\n",
       "      <td>2</td>\n",
       "      <td>39</td>\n",
       "      <td>9773</td>\n",
       "      <td>1</td>\n",
       "      <td>1</td>\n",
       "      <td>1</td>\n",
       "      <td>37</td>\n",
       "      <td>37</td>\n",
       "      <td>9</td>\n",
       "      <td>9</td>\n",
       "      <td>0</td>\n",
       "      <td>0</td>\n",
       "      <td>0</td>\n",
       "      <td>1</td>\n",
       "      <td>1</td>\n",
       "      <td>0</td>\n",
       "      <td>0</td>\n",
       "      <td>Dropout</td>\n",
       "    </tr>\n",
       "    <tr>\n",
       "      <th>4411</th>\n",
       "      <td>1</td>\n",
       "      <td>44</td>\n",
       "      <td>9130</td>\n",
       "      <td>1</td>\n",
       "      <td>39</td>\n",
       "      <td>1</td>\n",
       "      <td>37</td>\n",
       "      <td>37</td>\n",
       "      <td>9</td>\n",
       "      <td>3</td>\n",
       "      <td>1</td>\n",
       "      <td>0</td>\n",
       "      <td>0</td>\n",
       "      <td>1</td>\n",
       "      <td>1</td>\n",
       "      <td>0</td>\n",
       "      <td>0</td>\n",
       "      <td>Dropout</td>\n",
       "    </tr>\n",
       "    <tr>\n",
       "      <th>4415</th>\n",
       "      <td>4</td>\n",
       "      <td>39</td>\n",
       "      <td>9500</td>\n",
       "      <td>1</td>\n",
       "      <td>19</td>\n",
       "      <td>1</td>\n",
       "      <td>37</td>\n",
       "      <td>37</td>\n",
       "      <td>6</td>\n",
       "      <td>6</td>\n",
       "      <td>0</td>\n",
       "      <td>0</td>\n",
       "      <td>1</td>\n",
       "      <td>0</td>\n",
       "      <td>0</td>\n",
       "      <td>0</td>\n",
       "      <td>0</td>\n",
       "      <td>Dropout</td>\n",
       "    </tr>\n",
       "    <tr>\n",
       "      <th>4420</th>\n",
       "      <td>1</td>\n",
       "      <td>1</td>\n",
       "      <td>9773</td>\n",
       "      <td>1</td>\n",
       "      <td>1</td>\n",
       "      <td>105</td>\n",
       "      <td>1</td>\n",
       "      <td>1</td>\n",
       "      <td>9</td>\n",
       "      <td>9</td>\n",
       "      <td>1</td>\n",
       "      <td>0</td>\n",
       "      <td>1</td>\n",
       "      <td>0</td>\n",
       "      <td>0</td>\n",
       "      <td>0</td>\n",
       "      <td>1</td>\n",
       "      <td>Dropout</td>\n",
       "    </tr>\n",
       "    <tr>\n",
       "      <th>4421</th>\n",
       "      <td>1</td>\n",
       "      <td>1</td>\n",
       "      <td>9500</td>\n",
       "      <td>1</td>\n",
       "      <td>1</td>\n",
       "      <td>1</td>\n",
       "      <td>37</td>\n",
       "      <td>37</td>\n",
       "      <td>9</td>\n",
       "      <td>9</td>\n",
       "      <td>1</td>\n",
       "      <td>0</td>\n",
       "      <td>0</td>\n",
       "      <td>1</td>\n",
       "      <td>0</td>\n",
       "      <td>1</td>\n",
       "      <td>0</td>\n",
       "      <td>Dropout</td>\n",
       "    </tr>\n",
       "  </tbody>\n",
       "</table>\n",
       "<p>1421 rows × 18 columns</p>\n",
       "</div>"
      ],
      "text/plain": [
       "     Marital status Application mode Course Daytime/evening attendance\\t  \\\n",
       "0                 1               17    171                            1   \n",
       "2                 1                1   9070                            1   \n",
       "7                 1               18   9254                            1   \n",
       "9                 1                1   9238                            1   \n",
       "12                1                1   9853                            1   \n",
       "...             ...              ...    ...                          ...   \n",
       "4408              2               39   9773                            1   \n",
       "4411              1               44   9130                            1   \n",
       "4415              4               39   9500                            1   \n",
       "4420              1                1   9773                            1   \n",
       "4421              1                1   9500                            1   \n",
       "\n",
       "     Previous qualification Nacionality Mother's qualification  \\\n",
       "0                         1           1                     19   \n",
       "2                         1           1                     37   \n",
       "7                         1           1                     37   \n",
       "9                         1           1                      1   \n",
       "12                        1           1                     19   \n",
       "...                     ...         ...                    ...   \n",
       "4408                      1           1                     37   \n",
       "4411                     39           1                     37   \n",
       "4415                     19           1                     37   \n",
       "4420                      1         105                      1   \n",
       "4421                      1           1                     37   \n",
       "\n",
       "     Father's qualification Mother's occupation Father's occupation Displaced  \\\n",
       "0                        12                   5                   9         1   \n",
       "2                        37                   9                   9         1   \n",
       "7                        37                   9                   9         1   \n",
       "9                        19                   4                   7         1   \n",
       "12                       37                   4                   9         1   \n",
       "...                     ...                 ...                 ...       ...   \n",
       "4408                     37                   9                   9         0   \n",
       "4411                     37                   9                   3         1   \n",
       "4415                     37                   6                   6         0   \n",
       "4420                      1                   9                   9         1   \n",
       "4421                     37                   9                   9         1   \n",
       "\n",
       "     Educational special needs Debtor Tuition fees up to date Gender  \\\n",
       "0                            0      0                       1      1   \n",
       "2                            0      0                       0      1   \n",
       "7                            0      0                       0      1   \n",
       "9                            0      1                       0      0   \n",
       "12                           0      0                       1      0   \n",
       "...                        ...    ...                     ...    ...   \n",
       "4408                         0      0                       1      1   \n",
       "4411                         0      0                       1      1   \n",
       "4415                         0      1                       0      0   \n",
       "4420                         0      1                       0      0   \n",
       "4421                         0      0                       1      0   \n",
       "\n",
       "     Scholarship holder International   Target  \n",
       "0                     0             0  Dropout  \n",
       "2                     0             0  Dropout  \n",
       "7                     0             0  Dropout  \n",
       "9                     0             0  Dropout  \n",
       "12                    0             0  Dropout  \n",
       "...                 ...           ...      ...  \n",
       "4408                  0             0  Dropout  \n",
       "4411                  0             0  Dropout  \n",
       "4415                  0             0  Dropout  \n",
       "4420                  0             1  Dropout  \n",
       "4421                  1             0  Dropout  \n",
       "\n",
       "[1421 rows x 18 columns]"
      ]
     },
     "execution_count": 116,
     "metadata": {},
     "output_type": "execute_result"
    }
   ],
   "source": [
    "dropout_categorial = bank[bank[\"Target\"] == \"Dropout\"].select_dtypes(include=\"object\")\n",
    "dropout_categorial"
   ]
  },
  {
   "cell_type": "code",
   "execution_count": 117,
   "metadata": {},
   "outputs": [
    {
     "data": {
      "text/html": [
       "<div>\n",
       "<style scoped>\n",
       "    .dataframe tbody tr th:only-of-type {\n",
       "        vertical-align: middle;\n",
       "    }\n",
       "\n",
       "    .dataframe tbody tr th {\n",
       "        vertical-align: top;\n",
       "    }\n",
       "\n",
       "    .dataframe thead th {\n",
       "        text-align: right;\n",
       "    }\n",
       "</style>\n",
       "<table border=\"1\" class=\"dataframe\">\n",
       "  <thead>\n",
       "    <tr style=\"text-align: right;\">\n",
       "      <th></th>\n",
       "      <th>Marital status</th>\n",
       "      <th>Application mode</th>\n",
       "      <th>Course</th>\n",
       "      <th>Daytime/evening attendance\\t</th>\n",
       "      <th>Previous qualification</th>\n",
       "      <th>Nacionality</th>\n",
       "      <th>Mother's qualification</th>\n",
       "      <th>Father's qualification</th>\n",
       "      <th>Mother's occupation</th>\n",
       "      <th>Father's occupation</th>\n",
       "      <th>Displaced</th>\n",
       "      <th>Educational special needs</th>\n",
       "      <th>Debtor</th>\n",
       "      <th>Tuition fees up to date</th>\n",
       "      <th>Gender</th>\n",
       "      <th>Scholarship holder</th>\n",
       "      <th>International</th>\n",
       "      <th>Target</th>\n",
       "    </tr>\n",
       "  </thead>\n",
       "  <tbody>\n",
       "    <tr>\n",
       "      <th>16</th>\n",
       "      <td>1</td>\n",
       "      <td>18</td>\n",
       "      <td>9238</td>\n",
       "      <td>1</td>\n",
       "      <td>1</td>\n",
       "      <td>1</td>\n",
       "      <td>19</td>\n",
       "      <td>38</td>\n",
       "      <td>5</td>\n",
       "      <td>8</td>\n",
       "      <td>1</td>\n",
       "      <td>0</td>\n",
       "      <td>0</td>\n",
       "      <td>1</td>\n",
       "      <td>0</td>\n",
       "      <td>0</td>\n",
       "      <td>0</td>\n",
       "      <td>Enrolled</td>\n",
       "    </tr>\n",
       "    <tr>\n",
       "      <th>19</th>\n",
       "      <td>1</td>\n",
       "      <td>1</td>\n",
       "      <td>9853</td>\n",
       "      <td>1</td>\n",
       "      <td>1</td>\n",
       "      <td>1</td>\n",
       "      <td>19</td>\n",
       "      <td>19</td>\n",
       "      <td>7</td>\n",
       "      <td>7</td>\n",
       "      <td>1</td>\n",
       "      <td>0</td>\n",
       "      <td>0</td>\n",
       "      <td>1</td>\n",
       "      <td>0</td>\n",
       "      <td>0</td>\n",
       "      <td>0</td>\n",
       "      <td>Enrolled</td>\n",
       "    </tr>\n",
       "    <tr>\n",
       "      <th>21</th>\n",
       "      <td>1</td>\n",
       "      <td>18</td>\n",
       "      <td>9556</td>\n",
       "      <td>1</td>\n",
       "      <td>1</td>\n",
       "      <td>1</td>\n",
       "      <td>1</td>\n",
       "      <td>38</td>\n",
       "      <td>4</td>\n",
       "      <td>7</td>\n",
       "      <td>1</td>\n",
       "      <td>0</td>\n",
       "      <td>0</td>\n",
       "      <td>1</td>\n",
       "      <td>0</td>\n",
       "      <td>0</td>\n",
       "      <td>0</td>\n",
       "      <td>Enrolled</td>\n",
       "    </tr>\n",
       "    <tr>\n",
       "      <th>25</th>\n",
       "      <td>1</td>\n",
       "      <td>1</td>\n",
       "      <td>9238</td>\n",
       "      <td>1</td>\n",
       "      <td>1</td>\n",
       "      <td>1</td>\n",
       "      <td>19</td>\n",
       "      <td>38</td>\n",
       "      <td>9</td>\n",
       "      <td>9</td>\n",
       "      <td>1</td>\n",
       "      <td>0</td>\n",
       "      <td>1</td>\n",
       "      <td>1</td>\n",
       "      <td>0</td>\n",
       "      <td>1</td>\n",
       "      <td>0</td>\n",
       "      <td>Enrolled</td>\n",
       "    </tr>\n",
       "    <tr>\n",
       "      <th>27</th>\n",
       "      <td>1</td>\n",
       "      <td>1</td>\n",
       "      <td>9085</td>\n",
       "      <td>1</td>\n",
       "      <td>1</td>\n",
       "      <td>1</td>\n",
       "      <td>19</td>\n",
       "      <td>19</td>\n",
       "      <td>3</td>\n",
       "      <td>3</td>\n",
       "      <td>1</td>\n",
       "      <td>0</td>\n",
       "      <td>0</td>\n",
       "      <td>1</td>\n",
       "      <td>0</td>\n",
       "      <td>0</td>\n",
       "      <td>0</td>\n",
       "      <td>Enrolled</td>\n",
       "    </tr>\n",
       "    <tr>\n",
       "      <th>...</th>\n",
       "      <td>...</td>\n",
       "      <td>...</td>\n",
       "      <td>...</td>\n",
       "      <td>...</td>\n",
       "      <td>...</td>\n",
       "      <td>...</td>\n",
       "      <td>...</td>\n",
       "      <td>...</td>\n",
       "      <td>...</td>\n",
       "      <td>...</td>\n",
       "      <td>...</td>\n",
       "      <td>...</td>\n",
       "      <td>...</td>\n",
       "      <td>...</td>\n",
       "      <td>...</td>\n",
       "      <td>...</td>\n",
       "      <td>...</td>\n",
       "      <td>...</td>\n",
       "    </tr>\n",
       "    <tr>\n",
       "      <th>4397</th>\n",
       "      <td>1</td>\n",
       "      <td>5</td>\n",
       "      <td>9853</td>\n",
       "      <td>1</td>\n",
       "      <td>1</td>\n",
       "      <td>1</td>\n",
       "      <td>3</td>\n",
       "      <td>38</td>\n",
       "      <td>3</td>\n",
       "      <td>8</td>\n",
       "      <td>1</td>\n",
       "      <td>0</td>\n",
       "      <td>0</td>\n",
       "      <td>1</td>\n",
       "      <td>0</td>\n",
       "      <td>0</td>\n",
       "      <td>0</td>\n",
       "      <td>Enrolled</td>\n",
       "    </tr>\n",
       "    <tr>\n",
       "      <th>4402</th>\n",
       "      <td>1</td>\n",
       "      <td>18</td>\n",
       "      <td>9853</td>\n",
       "      <td>1</td>\n",
       "      <td>1</td>\n",
       "      <td>1</td>\n",
       "      <td>1</td>\n",
       "      <td>19</td>\n",
       "      <td>3</td>\n",
       "      <td>9</td>\n",
       "      <td>1</td>\n",
       "      <td>0</td>\n",
       "      <td>0</td>\n",
       "      <td>1</td>\n",
       "      <td>1</td>\n",
       "      <td>0</td>\n",
       "      <td>0</td>\n",
       "      <td>Enrolled</td>\n",
       "    </tr>\n",
       "    <tr>\n",
       "      <th>4406</th>\n",
       "      <td>1</td>\n",
       "      <td>1</td>\n",
       "      <td>9070</td>\n",
       "      <td>1</td>\n",
       "      <td>1</td>\n",
       "      <td>1</td>\n",
       "      <td>1</td>\n",
       "      <td>38</td>\n",
       "      <td>5</td>\n",
       "      <td>7</td>\n",
       "      <td>1</td>\n",
       "      <td>0</td>\n",
       "      <td>0</td>\n",
       "      <td>1</td>\n",
       "      <td>1</td>\n",
       "      <td>0</td>\n",
       "      <td>0</td>\n",
       "      <td>Enrolled</td>\n",
       "    </tr>\n",
       "    <tr>\n",
       "      <th>4412</th>\n",
       "      <td>1</td>\n",
       "      <td>43</td>\n",
       "      <td>9070</td>\n",
       "      <td>1</td>\n",
       "      <td>1</td>\n",
       "      <td>1</td>\n",
       "      <td>19</td>\n",
       "      <td>19</td>\n",
       "      <td>7</td>\n",
       "      <td>8</td>\n",
       "      <td>1</td>\n",
       "      <td>0</td>\n",
       "      <td>0</td>\n",
       "      <td>1</td>\n",
       "      <td>1</td>\n",
       "      <td>1</td>\n",
       "      <td>0</td>\n",
       "      <td>Enrolled</td>\n",
       "    </tr>\n",
       "    <tr>\n",
       "      <th>4413</th>\n",
       "      <td>1</td>\n",
       "      <td>43</td>\n",
       "      <td>33</td>\n",
       "      <td>1</td>\n",
       "      <td>1</td>\n",
       "      <td>1</td>\n",
       "      <td>37</td>\n",
       "      <td>1</td>\n",
       "      <td>9</td>\n",
       "      <td>10</td>\n",
       "      <td>1</td>\n",
       "      <td>0</td>\n",
       "      <td>0</td>\n",
       "      <td>1</td>\n",
       "      <td>1</td>\n",
       "      <td>0</td>\n",
       "      <td>0</td>\n",
       "      <td>Enrolled</td>\n",
       "    </tr>\n",
       "  </tbody>\n",
       "</table>\n",
       "<p>794 rows × 18 columns</p>\n",
       "</div>"
      ],
      "text/plain": [
       "     Marital status Application mode Course Daytime/evening attendance\\t  \\\n",
       "16                1               18   9238                            1   \n",
       "19                1                1   9853                            1   \n",
       "21                1               18   9556                            1   \n",
       "25                1                1   9238                            1   \n",
       "27                1                1   9085                            1   \n",
       "...             ...              ...    ...                          ...   \n",
       "4397              1                5   9853                            1   \n",
       "4402              1               18   9853                            1   \n",
       "4406              1                1   9070                            1   \n",
       "4412              1               43   9070                            1   \n",
       "4413              1               43     33                            1   \n",
       "\n",
       "     Previous qualification Nacionality Mother's qualification  \\\n",
       "16                        1           1                     19   \n",
       "19                        1           1                     19   \n",
       "21                        1           1                      1   \n",
       "25                        1           1                     19   \n",
       "27                        1           1                     19   \n",
       "...                     ...         ...                    ...   \n",
       "4397                      1           1                      3   \n",
       "4402                      1           1                      1   \n",
       "4406                      1           1                      1   \n",
       "4412                      1           1                     19   \n",
       "4413                      1           1                     37   \n",
       "\n",
       "     Father's qualification Mother's occupation Father's occupation Displaced  \\\n",
       "16                       38                   5                   8         1   \n",
       "19                       19                   7                   7         1   \n",
       "21                       38                   4                   7         1   \n",
       "25                       38                   9                   9         1   \n",
       "27                       19                   3                   3         1   \n",
       "...                     ...                 ...                 ...       ...   \n",
       "4397                     38                   3                   8         1   \n",
       "4402                     19                   3                   9         1   \n",
       "4406                     38                   5                   7         1   \n",
       "4412                     19                   7                   8         1   \n",
       "4413                      1                   9                  10         1   \n",
       "\n",
       "     Educational special needs Debtor Tuition fees up to date Gender  \\\n",
       "16                           0      0                       1      0   \n",
       "19                           0      0                       1      0   \n",
       "21                           0      0                       1      0   \n",
       "25                           0      1                       1      0   \n",
       "27                           0      0                       1      0   \n",
       "...                        ...    ...                     ...    ...   \n",
       "4397                         0      0                       1      0   \n",
       "4402                         0      0                       1      1   \n",
       "4406                         0      0                       1      1   \n",
       "4412                         0      0                       1      1   \n",
       "4413                         0      0                       1      1   \n",
       "\n",
       "     Scholarship holder International    Target  \n",
       "16                    0             0  Enrolled  \n",
       "19                    0             0  Enrolled  \n",
       "21                    0             0  Enrolled  \n",
       "25                    1             0  Enrolled  \n",
       "27                    0             0  Enrolled  \n",
       "...                 ...           ...       ...  \n",
       "4397                  0             0  Enrolled  \n",
       "4402                  0             0  Enrolled  \n",
       "4406                  0             0  Enrolled  \n",
       "4412                  1             0  Enrolled  \n",
       "4413                  0             0  Enrolled  \n",
       "\n",
       "[794 rows x 18 columns]"
      ]
     },
     "execution_count": 117,
     "metadata": {},
     "output_type": "execute_result"
    }
   ],
   "source": [
    "enrolled_categorial = bank[bank[\"Target\"] == \"Enrolled\"].select_dtypes(include=\"object\")\n",
    "enrolled_categorial"
   ]
  },
  {
   "cell_type": "code",
   "execution_count": 118,
   "metadata": {},
   "outputs": [
    {
     "name": "stderr",
     "output_type": "stream",
     "text": [
      "/Users/tainazitina/anaconda3/lib/python3.11/site-packages/IPython/core/events.py:89: UserWarning: Glyph 9 (\t) missing from current font.\n",
      "  func(*args, **kwargs)\n"
     ]
    },
    {
     "data": {
      "image/png": "[encoded data removed]",
      "text/plain": [
       "<Figure size 640x480 with 2 Axes>"
      ]
     },
     "metadata": {},
     "output_type": "display_data"
    },
    {
     "data": {
      "image/png": "[encoded data removed]",
      "text/plain": [
       "<Figure size 640x480 with 2 Axes>"
      ]
     },
     "metadata": {},
     "output_type": "display_data"
    },
    {
     "data": {
      "image/png": "[encoded data removed]",
      "text/plain": [
       "<Figure size 640x480 with 2 Axes>"
      ]
     },
     "metadata": {},
     "output_type": "display_data"
    },
    {
     "name": "stderr",
     "output_type": "stream",
     "text": [
      "/Users/tainazitina/anaconda3/lib/python3.11/site-packages/IPython/core/pylabtools.py:152: UserWarning: Glyph 9 (\t) missing from current font.\n",
      "  fig.canvas.print_figure(bytes_io, **kw)\n"
     ]
    },
    {
     "data": {
      "image/png": "[encoded data removed]",
      "text/plain": [
       "<Figure size 640x480 with 2 Axes>"
      ]
     },
     "metadata": {},
     "output_type": "display_data"
    },
    {
     "data": {
      "image/png": "[encoded data removed]",
      "text/plain": [
       "<Figure size 640x480 with 2 Axes>"
      ]
     },
     "metadata": {},
     "output_type": "display_data"
    },
    {
     "data": {
      "image/png": "[encoded data removed]",
      "text/plain": [
       "<Figure size 640x480 with 2 Axes>"
      ]
     },
     "metadata": {},
     "output_type": "display_data"
    },
    {
     "data": {
      "image/png": "[encoded data removed]",
      "text/plain": [
       "<Figure size 640x480 with 2 Axes>"
      ]
     },
     "metadata": {},
     "output_type": "display_data"
    },
    {
     "data": {
      "image/png": "[encoded data removed]",
      "text/plain": [
       "<Figure size 640x480 with 2 Axes>"
      ]
     },
     "metadata": {},
     "output_type": "display_data"
    },
    {
     "data": {
      "image/png": "[encoded data removed]",
      "text/plain": [
       "<Figure size 640x480 with 2 Axes>"
      ]
     },
     "metadata": {},
     "output_type": "display_data"
    },
    {
     "data": {
      "image/png": "[encoded data removed]",
      "text/plain": [
       "<Figure size 640x480 with 2 Axes>"
      ]
     },
     "metadata": {},
     "output_type": "display_data"
    },
    {
     "data": {
      "image/png": "[encoded data removed]",
      "text/plain": [
       "<Figure size 640x480 with 2 Axes>"
      ]
     },
     "metadata": {},
     "output_type": "display_data"
    },
    {
     "data": {
      "image/png": "[encoded data removed]",
      "text/plain": [
       "<Figure size 640x480 with 2 Axes>"
      ]
     },
     "metadata": {},
     "output_type": "display_data"
    },
    {
     "data": {
      "image/png": "[encoded data removed]",
      "text/plain": [
       "<Figure size 640x480 with 2 Axes>"
      ]
     },
     "metadata": {},
     "output_type": "display_data"
    },
    {
     "data": {
      "image/png": "[encoded data removed]",
      "text/plain": [
       "<Figure size 640x480 with 2 Axes>"
      ]
     },
     "metadata": {},
     "output_type": "display_data"
    },
    {
     "data": {
      "image/png": "[encoded data removed]",
      "text/plain": [
       "<Figure size 640x480 with 2 Axes>"
      ]
     },
     "metadata": {},
     "output_type": "display_data"
    },
    {
     "data": {
      "image/png": "[encoded data removed]",
      "text/plain": [
       "<Figure size 640x480 with 2 Axes>"
      ]
     },
     "metadata": {},
     "output_type": "display_data"
    },
    {
     "data": {
      "image/png": "[encoded data removed]",
      "text/plain": [
       "<Figure size 640x480 with 2 Axes>"
      ]
     },
     "metadata": {},
     "output_type": "display_data"
    },
    {
     "data": {
      "image/png": "[encoded data removed]",
      "text/plain": [
       "<Figure size 640x480 with 2 Axes>"
      ]
     },
     "metadata": {},
     "output_type": "display_data"
    }
   ],
   "source": [
    "for col in dropout_categorial.columns:\n",
    "  # print(pd.crosstab(bank[col], bank[\"Target\"]))\n",
    "  fig, axs = plt.subplots(2)\n",
    "  fig.suptitle(col)\n",
    "  dropout_categorial[col].value_counts(normalize=True).plot(kind=\"bar\", ax=axs[0])\n",
    "  enrolled_categorial[col].value_counts(normalize=True).plot(kind=\"bar\", ax=axs[1])\n",
    "  axs[0].set_ylim(0, 1)\n",
    "  axs[1].set_ylim(0, 1)\n",
    "  # fig.show()\n",
    "# bank.select_dtypes(include=\"object\").groupby([\"Target\"]).size()"
   ]
  },
  {
   "cell_type": "markdown",
   "metadata": {},
   "source": [
    "Визуально самая большая разница у показателя Educational special needs"
   ]
  },
  {
   "cell_type": "markdown",
   "metadata": {},
   "source": [
    "## 5. Визуализация зависимостей показателей."
   ]
  },
  {
   "cell_type": "markdown",
   "metadata": {},
   "source": [
    "### Два количественных показателя"
   ]
  },
  {
   "cell_type": "code",
   "execution_count": 119,
   "metadata": {},
   "outputs": [
    {
     "data": {
      "text/plain": [
       "<Axes: xlabel='Age at enrollment', ylabel='Admission grade'>"
      ]
     },
     "execution_count": 119,
     "metadata": {},
     "output_type": "execute_result"
    },
    {
     "data": {
      "image/png": "[encoded data removed]",
      "text/plain": [
       "<Figure size 1000x400 with 1 Axes>"
      ]
     },
     "metadata": {},
     "output_type": "display_data"
    }
   ],
   "source": [
    "plt.figure(figsize=(10,4))\n",
    "sns.scatterplot(x='Age at enrollment',y='Admission grade',data=bank)"
   ]
  },
  {
   "cell_type": "markdown",
   "metadata": {},
   "source": [
    "### Два качественных показателя"
   ]
  },
  {
   "cell_type": "code",
   "execution_count": 120,
   "metadata": {},
   "outputs": [
    {
     "data": {
      "text/plain": [
       "<Axes: xlabel='Debtor', ylabel='count'>"
      ]
     },
     "execution_count": 120,
     "metadata": {},
     "output_type": "execute_result"
    },
    {
     "data": {
      "image/png": "[encoded data removed]",
      "text/plain": [
       "<Figure size 2000x400 with 1 Axes>"
      ]
     },
     "metadata": {},
     "output_type": "display_data"
    }
   ],
   "source": [
    "plt.figure(figsize=(20,4))\n",
    "sns.countplot(x = \"Debtor\", hue = \"Gender\", data = bank)"
   ]
  },
  {
   "cell_type": "markdown",
   "metadata": {},
   "source": [
    "Должников среди мужчин меньше."
   ]
  },
  {
   "cell_type": "markdown",
   "metadata": {},
   "source": [
    "### Количественный и качественный показатель"
   ]
  },
  {
   "cell_type": "code",
   "execution_count": 121,
   "metadata": {},
   "outputs": [
    {
     "data": {
      "text/plain": [
       "<Axes: xlabel='Age at enrollment', ylabel='Count'>"
      ]
     },
     "execution_count": 121,
     "metadata": {},
     "output_type": "execute_result"
    },
    {
     "data": {
      "image/png": "[encoded data removed]",
      "text/plain": [
       "<Figure size 640x480 with 1 Axes>"
      ]
     },
     "metadata": {},
     "output_type": "display_data"
    }
   ],
   "source": [
    "sns.histplot(x = \"Age at enrollment\", data = bank, hue = 'Debtor') "
   ]
  },
  {
   "cell_type": "markdown",
   "metadata": {},
   "source": [
    "## 6. Пропуски данных и аномальные выбросы. "
   ]
  },
  {
   "cell_type": "markdown",
   "metadata": {},
   "source": [
    "### Пропусков нет, согласно описанию датасета, это подтверждается:"
   ]
  },
  {
   "cell_type": "code",
   "execution_count": 122,
   "metadata": {},
   "outputs": [
    {
     "data": {
      "text/plain": [
       "Marital status                                    0\n",
       "Application mode                                  0\n",
       "Application order                                 0\n",
       "Course                                            0\n",
       "Daytime/evening attendance\\t                      0\n",
       "Previous qualification                            0\n",
       "Previous qualification (grade)                    0\n",
       "Nacionality                                       0\n",
       "Mother's qualification                            0\n",
       "Father's qualification                            0\n",
       "Mother's occupation                               0\n",
       "Father's occupation                               0\n",
       "Admission grade                                   0\n",
       "Displaced                                         0\n",
       "Educational special needs                         0\n",
       "Debtor                                            0\n",
       "Tuition fees up to date                           0\n",
       "Gender                                            0\n",
       "Scholarship holder                                0\n",
       "Age at enrollment                                 0\n",
       "International                                     0\n",
       "Curricular units 1st sem (credited)               0\n",
       "Curricular units 1st sem (enrolled)               0\n",
       "Curricular units 1st sem (evaluations)            0\n",
       "Curricular units 1st sem (approved)               0\n",
       "Curricular units 1st sem (grade)                  0\n",
       "Curricular units 1st sem (without evaluations)    0\n",
       "Curricular units 2nd sem (credited)               0\n",
       "Curricular units 2nd sem (enrolled)               0\n",
       "Curricular units 2nd sem (evaluations)            0\n",
       "Curricular units 2nd sem (approved)               0\n",
       "Curricular units 2nd sem (grade)                  0\n",
       "Curricular units 2nd sem (without evaluations)    0\n",
       "Unemployment rate                                 0\n",
       "Inflation rate                                    0\n",
       "GDP                                               0\n",
       "Target                                            0\n",
       "dtype: int64"
      ]
     },
     "execution_count": 122,
     "metadata": {},
     "output_type": "execute_result"
    }
   ],
   "source": [
    "bank.isnull().sum()"
   ]
  },
  {
   "cell_type": "markdown",
   "metadata": {},
   "source": [
    "### Аномальные выбросы"
   ]
  },
  {
   "cell_type": "code",
   "execution_count": 123,
   "metadata": {},
   "outputs": [
    {
     "data": {
      "text/plain": [
       "<Axes: xlabel='Age at enrollment'>"
      ]
     },
     "execution_count": 123,
     "metadata": {},
     "output_type": "execute_result"
    },
    {
     "data": {
      "image/png": "[encoded data removed]",
      "text/plain": [
       "<Figure size 640x480 with 1 Axes>"
      ]
     },
     "metadata": {},
     "output_type": "display_data"
    }
   ],
   "source": [
    "sns.boxplot(x = \"Age at enrollment\", data = bank)"
   ]
  },
  {
   "cell_type": "code",
   "execution_count": 124,
   "metadata": {},
   "outputs": [
    {
     "data": {
      "text/plain": [
       "441"
      ]
     },
     "execution_count": 124,
     "metadata": {},
     "output_type": "execute_result"
    }
   ],
   "source": [
    "len(bank[bank['Age at enrollment']>34])"
   ]
  },
  {
   "cell_type": "markdown",
   "metadata": {},
   "source": [
    "График считает аномальными выбросами студентов, возраст которых выше 34 лет. Однако, можно предположить, что студентами могут быть и людям более старшего возраста возраста, хоть их количество и мало - 441, что составляет около 9,9%."
   ]
  },
  {
   "cell_type": "markdown",
   "metadata": {},
   "source": [
    "Аномальными выбросами точно можно считать строки, где продолжительность приоритет подачи заявления (атрибут Application order) равен 0 (первый выбор) или 9 (последний выбор)."
   ]
  },
  {
   "cell_type": "code",
   "execution_count": 125,
   "metadata": {},
   "outputs": [
    {
     "data": {
      "text/html": [
       "<div>\n",
       "<style scoped>\n",
       "    .dataframe tbody tr th:only-of-type {\n",
       "        vertical-align: middle;\n",
       "    }\n",
       "\n",
       "    .dataframe tbody tr th {\n",
       "        vertical-align: top;\n",
       "    }\n",
       "\n",
       "    .dataframe thead th {\n",
       "        text-align: right;\n",
       "    }\n",
       "</style>\n",
       "<table border=\"1\" class=\"dataframe\">\n",
       "  <thead>\n",
       "    <tr style=\"text-align: right;\">\n",
       "      <th></th>\n",
       "      <th>Marital status</th>\n",
       "      <th>Application mode</th>\n",
       "      <th>Application order</th>\n",
       "      <th>Course</th>\n",
       "      <th>Daytime/evening attendance\\t</th>\n",
       "      <th>Previous qualification</th>\n",
       "      <th>Previous qualification (grade)</th>\n",
       "      <th>Nacionality</th>\n",
       "      <th>Mother's qualification</th>\n",
       "      <th>Father's qualification</th>\n",
       "      <th>...</th>\n",
       "      <th>Curricular units 2nd sem (credited)</th>\n",
       "      <th>Curricular units 2nd sem (enrolled)</th>\n",
       "      <th>Curricular units 2nd sem (evaluations)</th>\n",
       "      <th>Curricular units 2nd sem (approved)</th>\n",
       "      <th>Curricular units 2nd sem (grade)</th>\n",
       "      <th>Curricular units 2nd sem (without evaluations)</th>\n",
       "      <th>Unemployment rate</th>\n",
       "      <th>Inflation rate</th>\n",
       "      <th>GDP</th>\n",
       "      <th>Target</th>\n",
       "    </tr>\n",
       "  </thead>\n",
       "  <tbody>\n",
       "    <tr>\n",
       "      <th>2778</th>\n",
       "      <td>1</td>\n",
       "      <td>7</td>\n",
       "      <td>0</td>\n",
       "      <td>9003</td>\n",
       "      <td>1</td>\n",
       "      <td>3</td>\n",
       "      <td>130.0</td>\n",
       "      <td>1</td>\n",
       "      <td>1</td>\n",
       "      <td>37</td>\n",
       "      <td>...</td>\n",
       "      <td>8</td>\n",
       "      <td>12</td>\n",
       "      <td>22</td>\n",
       "      <td>12</td>\n",
       "      <td>13.214286</td>\n",
       "      <td>0</td>\n",
       "      <td>15.5</td>\n",
       "      <td>2.8</td>\n",
       "      <td>-4.06</td>\n",
       "      <td>Graduate</td>\n",
       "    </tr>\n",
       "  </tbody>\n",
       "</table>\n",
       "<p>1 rows × 37 columns</p>\n",
       "</div>"
      ],
      "text/plain": [
       "     Marital status Application mode  Application order Course  \\\n",
       "2778              1                7                  0   9003   \n",
       "\n",
       "     Daytime/evening attendance\\t Previous qualification  \\\n",
       "2778                            1                      3   \n",
       "\n",
       "      Previous qualification (grade) Nacionality Mother's qualification  \\\n",
       "2778                           130.0           1                      1   \n",
       "\n",
       "     Father's qualification  ... Curricular units 2nd sem (credited)  \\\n",
       "2778                     37  ...                                   8   \n",
       "\n",
       "     Curricular units 2nd sem (enrolled)  \\\n",
       "2778                                  12   \n",
       "\n",
       "      Curricular units 2nd sem (evaluations)  \\\n",
       "2778                                      22   \n",
       "\n",
       "     Curricular units 2nd sem (approved) Curricular units 2nd sem (grade)  \\\n",
       "2778                                  12                        13.214286   \n",
       "\n",
       "     Curricular units 2nd sem (without evaluations) Unemployment rate  \\\n",
       "2778                                              0              15.5   \n",
       "\n",
       "     Inflation rate   GDP    Target  \n",
       "2778            2.8 -4.06  Graduate  \n",
       "\n",
       "[1 rows x 37 columns]"
      ]
     },
     "execution_count": 125,
     "metadata": {},
     "output_type": "execute_result"
    }
   ],
   "source": [
    "bank[bank['Application order']==0]"
   ]
  },
  {
   "cell_type": "code",
   "execution_count": 126,
   "metadata": {},
   "outputs": [
    {
     "data": {
      "text/html": [
       "<div>\n",
       "<style scoped>\n",
       "    .dataframe tbody tr th:only-of-type {\n",
       "        vertical-align: middle;\n",
       "    }\n",
       "\n",
       "    .dataframe tbody tr th {\n",
       "        vertical-align: top;\n",
       "    }\n",
       "\n",
       "    .dataframe thead th {\n",
       "        text-align: right;\n",
       "    }\n",
       "</style>\n",
       "<table border=\"1\" class=\"dataframe\">\n",
       "  <thead>\n",
       "    <tr style=\"text-align: right;\">\n",
       "      <th></th>\n",
       "      <th>Marital status</th>\n",
       "      <th>Application mode</th>\n",
       "      <th>Application order</th>\n",
       "      <th>Course</th>\n",
       "      <th>Daytime/evening attendance\\t</th>\n",
       "      <th>Previous qualification</th>\n",
       "      <th>Previous qualification (grade)</th>\n",
       "      <th>Nacionality</th>\n",
       "      <th>Mother's qualification</th>\n",
       "      <th>Father's qualification</th>\n",
       "      <th>...</th>\n",
       "      <th>Curricular units 2nd sem (credited)</th>\n",
       "      <th>Curricular units 2nd sem (enrolled)</th>\n",
       "      <th>Curricular units 2nd sem (evaluations)</th>\n",
       "      <th>Curricular units 2nd sem (approved)</th>\n",
       "      <th>Curricular units 2nd sem (grade)</th>\n",
       "      <th>Curricular units 2nd sem (without evaluations)</th>\n",
       "      <th>Unemployment rate</th>\n",
       "      <th>Inflation rate</th>\n",
       "      <th>GDP</th>\n",
       "      <th>Target</th>\n",
       "    </tr>\n",
       "  </thead>\n",
       "  <tbody>\n",
       "    <tr>\n",
       "      <th>2629</th>\n",
       "      <td>1</td>\n",
       "      <td>39</td>\n",
       "      <td>9</td>\n",
       "      <td>9991</td>\n",
       "      <td>0</td>\n",
       "      <td>1</td>\n",
       "      <td>120.0</td>\n",
       "      <td>1</td>\n",
       "      <td>38</td>\n",
       "      <td>38</td>\n",
       "      <td>...</td>\n",
       "      <td>0</td>\n",
       "      <td>5</td>\n",
       "      <td>7</td>\n",
       "      <td>5</td>\n",
       "      <td>14.333333</td>\n",
       "      <td>0</td>\n",
       "      <td>10.8</td>\n",
       "      <td>1.4</td>\n",
       "      <td>1.74</td>\n",
       "      <td>Enrolled</td>\n",
       "    </tr>\n",
       "  </tbody>\n",
       "</table>\n",
       "<p>1 rows × 37 columns</p>\n",
       "</div>"
      ],
      "text/plain": [
       "     Marital status Application mode  Application order Course  \\\n",
       "2629              1               39                  9   9991   \n",
       "\n",
       "     Daytime/evening attendance\\t Previous qualification  \\\n",
       "2629                            0                      1   \n",
       "\n",
       "      Previous qualification (grade) Nacionality Mother's qualification  \\\n",
       "2629                           120.0           1                     38   \n",
       "\n",
       "     Father's qualification  ... Curricular units 2nd sem (credited)  \\\n",
       "2629                     38  ...                                   0   \n",
       "\n",
       "     Curricular units 2nd sem (enrolled)  \\\n",
       "2629                                   5   \n",
       "\n",
       "      Curricular units 2nd sem (evaluations)  \\\n",
       "2629                                       7   \n",
       "\n",
       "     Curricular units 2nd sem (approved) Curricular units 2nd sem (grade)  \\\n",
       "2629                                   5                        14.333333   \n",
       "\n",
       "     Curricular units 2nd sem (without evaluations) Unemployment rate  \\\n",
       "2629                                              0              10.8   \n",
       "\n",
       "     Inflation rate   GDP    Target  \n",
       "2629            1.4  1.74  Enrolled  \n",
       "\n",
       "[1 rows x 37 columns]"
      ]
     },
     "execution_count": 126,
     "metadata": {},
     "output_type": "execute_result"
    }
   ],
   "source": [
    "bank[bank['Application order']==9]"
   ]
  },
  {
   "cell_type": "markdown",
   "metadata": {},
   "source": [
    "В данном датасете таких строк всего две, по одной на каждую категорию."
   ]
  }
 ],
 "metadata": {
  "kernelspec": {
   "display_name": "base",
   "language": "python",
   "name": "python3"
  },
  "language_info": {
   "codemirror_mode": {
    "name": "ipython",
    "version": 3
   },
   "file_extension": ".py",
   "mimetype": "text/x-python",
   "name": "python",
   "nbconvert_exporter": "python",
   "pygments_lexer": "ipython3",
   "version": "3.11.4"
  },
  "orig_nbformat": 4
 },
 "nbformat": 4,
 "nbformat_minor": 2
}
